{
 "cells": [
  {
   "cell_type": "markdown",
   "metadata": {
    "id": "ef9nlThl1wRt"
   },
   "source": [
    "**End-to-end Machine Learning project for medical **\n",
    "\n",
    "*Welcome to Machine Learning medical Corp.! Your task is to predict median house values in Californian districts, given a number of features from these districts.*\n",
    "\n",
    "*This notebook contains all the sample code and solutions to the exercices in chapter 2.*"
   ]
  },
  {
   "cell_type": "markdown",
   "metadata": {
    "id": "GgqFgLCl1wRv"
   },
   "source": [
    "# Setup"
   ]
  },
  {
   "cell_type": "markdown",
   "metadata": {
    "id": "S-oWcpEQ1wRw"
   },
   "source": [
    "First, let's import a few common modules, ensure MatplotLib plots figures inline and prepare a function to save the figures. We also check that Python 3.5 or later is installed (although Python 2.x may work, it is deprecated so we strongly recommend you use Python 3 instead), as well as Scikit-Learn ≥0.20."
   ]
  },
  {
   "cell_type": "code",
   "execution_count": 1,
   "metadata": {
    "id": "DGnPnXRl1wRx",
    "ExecuteTime": {
     "end_time": "2024-04-01T11:41:21.570902Z",
     "start_time": "2024-04-01T11:41:19.312215Z"
    }
   },
   "outputs": [],
   "source": [
    "# Python ≥3.5 is required\n",
    "import sys\n",
    "assert sys.version_info >= (3, 5)\n",
    "\n",
    "# Scikit-Learn ≥0.20 is required\n",
    "import sklearn\n",
    "assert sklearn.__version__ >= \"0.20\"\n",
    "\n",
    "# Common imports\n",
    "import numpy as np\n",
    "import os\n",
    "\n",
    "# To plot pretty figures\n",
    "%matplotlib inline\n",
    "import matplotlib as mpl\n",
    "import matplotlib.pyplot as plt\n",
    "mpl.rc('axes', labelsize=14)\n",
    "mpl.rc('xtick', labelsize=12)\n",
    "mpl.rc('ytick', labelsize=12)\n",
    "\n",
    "# Where to save the figures\n",
    "PROJECT_ROOT_DIR = \".\"\n",
    "CHAPTER_ID = \"end_to_end_project\"\n",
    "IMAGES_PATH = os.path.join(PROJECT_ROOT_DIR, \"images\", CHAPTER_ID)\n",
    "os.makedirs(IMAGES_PATH, exist_ok=True)\n",
    "\n",
    "def save_fig(fig_id, tight_layout=True, fig_extension=\"png\", resolution=300):\n",
    "    path = os.path.join(IMAGES_PATH, fig_id + \".\" + fig_extension)\n",
    "    print(\"Saving figure\", fig_id)\n",
    "    if tight_layout:\n",
    "        plt.tight_layout()\n",
    "    plt.savefig(path, format=fig_extension, dpi=resolution)"
   ]
  },
  {
   "cell_type": "markdown",
   "metadata": {
    "id": "dphqiK_t1wR0"
   },
   "source": [
    "## Import the Data"
   ]
  },
  {
   "cell_type": "code",
   "execution_count": 2,
   "metadata": {
    "id": "PXuFRi061wR3",
    "ExecuteTime": {
     "end_time": "2024-04-01T11:41:24.692320Z",
     "start_time": "2024-04-01T11:41:24.366998Z"
    }
   },
   "outputs": [],
   "source": [
    "import pandas as pd\n",
    "\n",
    "def load_medical_data(medical_path=\"\"):\n",
    "    csv_path = os.path.join(medical_path, \"training.csv\")\n",
    "    return pd.read_csv(csv_path)"
   ]
  },
  {
   "cell_type": "markdown",
   "metadata": {
    "id": "qQlgRxkb1wR3"
   },
   "source": [
    "## Take a Quick Look at the Data Structure"
   ]
  },
  {
   "cell_type": "code",
   "execution_count": 3,
   "metadata": {
    "id": "sQXn744X1wR4",
    "outputId": "1b0c39e4-6b1f-46f8-bcda-4d6ad2642844",
    "ExecuteTime": {
     "end_time": "2024-04-01T11:41:28.854899Z",
     "start_time": "2024-04-01T11:41:28.738686Z"
    }
   },
   "outputs": [
    {
     "data": {
      "text/plain": "   patient_id patient_race  payer_type patient_state  patient_zip3  \\\n0      475714          NaN    MEDICAID            CA           924   \n1      349367        White  COMMERCIAL            CA           928   \n2      138632        White  COMMERCIAL            TX           760   \n3      617843        White  COMMERCIAL            CA           926   \n4      817482          NaN  COMMERCIAL            ID           836   \n\n   patient_age patient_gender    bmi breast_cancer_diagnosis_code  \\\n0           84              F    NaN                       C50919   \n1           62              F  28.49                       C50411   \n2           43              F  38.09                       C50112   \n3           45              F    NaN                       C50212   \n4           55              F    NaN                         1749   \n\n                        breast_cancer_diagnosis_desc  ...   disabled  \\\n0  Malignant neoplasm of unsp site of unspecified...  ...  12.871429   \n1  Malig neoplm of upper-outer quadrant of right ...  ...   8.957576   \n2  Malignant neoplasm of central portion of left ...  ...  11.253333   \n3  Malig neoplasm of upper-inner quadrant of left...  ...   8.845238   \n4  Malignant neoplasm of breast (female), unspeci...  ...  15.276000   \n\n     poverty limited_english commute_time health_uninsured    veteran  \\\n0  22.542857       10.100000    27.814286        11.200000   3.500000   \n1  10.109091        8.057576    30.606061         7.018182   4.103030   \n2   9.663333        3.356667    31.394915        15.066667   7.446667   \n3   8.688095        5.280952    27.561905         4.404762   4.809524   \n4  11.224000        1.946000    26.170213        12.088000  13.106000   \n\n       Ozone      PM25        N02  DiagPeriodL90D  \n0  52.237210  8.650555  18.606528               1  \n1  42.301121  8.487175  20.113179               1  \n2  40.108207  7.642753  14.839351               1  \n3  42.070075  7.229393  15.894123               0  \n4  41.356058  4.110749  11.722197               0  \n\n[5 rows x 83 columns]",
      "text/html": "<div>\n<style scoped>\n    .dataframe tbody tr th:only-of-type {\n        vertical-align: middle;\n    }\n\n    .dataframe tbody tr th {\n        vertical-align: top;\n    }\n\n    .dataframe thead th {\n        text-align: right;\n    }\n</style>\n<table border=\"1\" class=\"dataframe\">\n  <thead>\n    <tr style=\"text-align: right;\">\n      <th></th>\n      <th>patient_id</th>\n      <th>patient_race</th>\n      <th>payer_type</th>\n      <th>patient_state</th>\n      <th>patient_zip3</th>\n      <th>patient_age</th>\n      <th>patient_gender</th>\n      <th>bmi</th>\n      <th>breast_cancer_diagnosis_code</th>\n      <th>breast_cancer_diagnosis_desc</th>\n      <th>...</th>\n      <th>disabled</th>\n      <th>poverty</th>\n      <th>limited_english</th>\n      <th>commute_time</th>\n      <th>health_uninsured</th>\n      <th>veteran</th>\n      <th>Ozone</th>\n      <th>PM25</th>\n      <th>N02</th>\n      <th>DiagPeriodL90D</th>\n    </tr>\n  </thead>\n  <tbody>\n    <tr>\n      <th>0</th>\n      <td>475714</td>\n      <td>NaN</td>\n      <td>MEDICAID</td>\n      <td>CA</td>\n      <td>924</td>\n      <td>84</td>\n      <td>F</td>\n      <td>NaN</td>\n      <td>C50919</td>\n      <td>Malignant neoplasm of unsp site of unspecified...</td>\n      <td>...</td>\n      <td>12.871429</td>\n      <td>22.542857</td>\n      <td>10.100000</td>\n      <td>27.814286</td>\n      <td>11.200000</td>\n      <td>3.500000</td>\n      <td>52.237210</td>\n      <td>8.650555</td>\n      <td>18.606528</td>\n      <td>1</td>\n    </tr>\n    <tr>\n      <th>1</th>\n      <td>349367</td>\n      <td>White</td>\n      <td>COMMERCIAL</td>\n      <td>CA</td>\n      <td>928</td>\n      <td>62</td>\n      <td>F</td>\n      <td>28.49</td>\n      <td>C50411</td>\n      <td>Malig neoplm of upper-outer quadrant of right ...</td>\n      <td>...</td>\n      <td>8.957576</td>\n      <td>10.109091</td>\n      <td>8.057576</td>\n      <td>30.606061</td>\n      <td>7.018182</td>\n      <td>4.103030</td>\n      <td>42.301121</td>\n      <td>8.487175</td>\n      <td>20.113179</td>\n      <td>1</td>\n    </tr>\n    <tr>\n      <th>2</th>\n      <td>138632</td>\n      <td>White</td>\n      <td>COMMERCIAL</td>\n      <td>TX</td>\n      <td>760</td>\n      <td>43</td>\n      <td>F</td>\n      <td>38.09</td>\n      <td>C50112</td>\n      <td>Malignant neoplasm of central portion of left ...</td>\n      <td>...</td>\n      <td>11.253333</td>\n      <td>9.663333</td>\n      <td>3.356667</td>\n      <td>31.394915</td>\n      <td>15.066667</td>\n      <td>7.446667</td>\n      <td>40.108207</td>\n      <td>7.642753</td>\n      <td>14.839351</td>\n      <td>1</td>\n    </tr>\n    <tr>\n      <th>3</th>\n      <td>617843</td>\n      <td>White</td>\n      <td>COMMERCIAL</td>\n      <td>CA</td>\n      <td>926</td>\n      <td>45</td>\n      <td>F</td>\n      <td>NaN</td>\n      <td>C50212</td>\n      <td>Malig neoplasm of upper-inner quadrant of left...</td>\n      <td>...</td>\n      <td>8.845238</td>\n      <td>8.688095</td>\n      <td>5.280952</td>\n      <td>27.561905</td>\n      <td>4.404762</td>\n      <td>4.809524</td>\n      <td>42.070075</td>\n      <td>7.229393</td>\n      <td>15.894123</td>\n      <td>0</td>\n    </tr>\n    <tr>\n      <th>4</th>\n      <td>817482</td>\n      <td>NaN</td>\n      <td>COMMERCIAL</td>\n      <td>ID</td>\n      <td>836</td>\n      <td>55</td>\n      <td>F</td>\n      <td>NaN</td>\n      <td>1749</td>\n      <td>Malignant neoplasm of breast (female), unspeci...</td>\n      <td>...</td>\n      <td>15.276000</td>\n      <td>11.224000</td>\n      <td>1.946000</td>\n      <td>26.170213</td>\n      <td>12.088000</td>\n      <td>13.106000</td>\n      <td>41.356058</td>\n      <td>4.110749</td>\n      <td>11.722197</td>\n      <td>0</td>\n    </tr>\n  </tbody>\n</table>\n<p>5 rows × 83 columns</p>\n</div>"
     },
     "execution_count": 3,
     "metadata": {},
     "output_type": "execute_result"
    }
   ],
   "source": [
    "medical = load_medical_data()\n",
    "medical.head()"
   ]
  },
  {
   "cell_type": "code",
   "execution_count": 4,
   "metadata": {
    "id": "cTiKF1_W1wR4",
    "outputId": "4349232c-67d2-4d12-f247-8c9002da1320",
    "ExecuteTime": {
     "end_time": "2024-04-01T11:41:30.834786Z",
     "start_time": "2024-04-01T11:41:30.818191Z"
    }
   },
   "outputs": [
    {
     "name": "stdout",
     "output_type": "stream",
     "text": [
      "<class 'pandas.core.frame.DataFrame'>\n",
      "RangeIndex: 12906 entries, 0 to 12905\n",
      "Data columns (total 83 columns):\n",
      " #   Column                                 Non-Null Count  Dtype  \n",
      "---  ------                                 --------------  -----  \n",
      " 0   patient_id                             12906 non-null  int64  \n",
      " 1   patient_race                           6521 non-null   object \n",
      " 2   payer_type                             11103 non-null  object \n",
      " 3   patient_state                          12855 non-null  object \n",
      " 4   patient_zip3                           12906 non-null  int64  \n",
      " 5   patient_age                            12906 non-null  int64  \n",
      " 6   patient_gender                         12906 non-null  object \n",
      " 7   bmi                                    3941 non-null   float64\n",
      " 8   breast_cancer_diagnosis_code           12906 non-null  object \n",
      " 9   breast_cancer_diagnosis_desc           12906 non-null  object \n",
      " 10  metastatic_cancer_diagnosis_code       12906 non-null  object \n",
      " 11  metastatic_first_novel_treatment       24 non-null     object \n",
      " 12  metastatic_first_novel_treatment_type  24 non-null     object \n",
      " 13  Region                                 12854 non-null  object \n",
      " 14  Division                               12854 non-null  object \n",
      " 15  population                             12905 non-null  float64\n",
      " 16  density                                12905 non-null  float64\n",
      " 17  age_median                             12905 non-null  float64\n",
      " 18  age_under_10                           12905 non-null  float64\n",
      " 19  age_10_to_19                           12905 non-null  float64\n",
      " 20  age_20s                                12905 non-null  float64\n",
      " 21  age_30s                                12905 non-null  float64\n",
      " 22  age_40s                                12905 non-null  float64\n",
      " 23  age_50s                                12905 non-null  float64\n",
      " 24  age_60s                                12905 non-null  float64\n",
      " 25  age_70s                                12905 non-null  float64\n",
      " 26  age_over_80                            12905 non-null  float64\n",
      " 27  male                                   12905 non-null  float64\n",
      " 28  female                                 12905 non-null  float64\n",
      " 29  married                                12905 non-null  float64\n",
      " 30  divorced                               12905 non-null  float64\n",
      " 31  never_married                          12905 non-null  float64\n",
      " 32  widowed                                12905 non-null  float64\n",
      " 33  family_size                            12902 non-null  float64\n",
      " 34  family_dual_income                     12902 non-null  float64\n",
      " 35  income_household_median                12902 non-null  float64\n",
      " 36  income_household_under_5               12902 non-null  float64\n",
      " 37  income_household_5_to_10               12902 non-null  float64\n",
      " 38  income_household_10_to_15              12902 non-null  float64\n",
      " 39  income_household_15_to_20              12902 non-null  float64\n",
      " 40  income_household_20_to_25              12902 non-null  float64\n",
      " 41  income_household_25_to_35              12902 non-null  float64\n",
      " 42  income_household_35_to_50              12902 non-null  float64\n",
      " 43  income_household_50_to_75              12902 non-null  float64\n",
      " 44  income_household_75_to_100             12902 non-null  float64\n",
      " 45  income_household_100_to_150            12902 non-null  float64\n",
      " 46  income_household_150_over              12902 non-null  float64\n",
      " 47  income_household_six_figure            12902 non-null  float64\n",
      " 48  income_individual_median               12905 non-null  float64\n",
      " 49  home_ownership                         12902 non-null  float64\n",
      " 50  housing_units                          12905 non-null  float64\n",
      " 51  home_value                             12902 non-null  float64\n",
      " 52  rent_median                            12902 non-null  float64\n",
      " 53  rent_burden                            12902 non-null  float64\n",
      " 54  education_less_highschool              12905 non-null  float64\n",
      " 55  education_highschool                   12905 non-null  float64\n",
      " 56  education_some_college                 12905 non-null  float64\n",
      " 57  education_bachelors                    12905 non-null  float64\n",
      " 58  education_graduate                     12905 non-null  float64\n",
      " 59  education_college_or_above             12905 non-null  float64\n",
      " 60  education_stem_degree                  12905 non-null  float64\n",
      " 61  labor_force_participation              12905 non-null  float64\n",
      " 62  unemployment_rate                      12905 non-null  float64\n",
      " 63  self_employed                          12902 non-null  float64\n",
      " 64  farmer                                 12902 non-null  float64\n",
      " 65  race_white                             12905 non-null  float64\n",
      " 66  race_black                             12905 non-null  float64\n",
      " 67  race_asian                             12905 non-null  float64\n",
      " 68  race_native                            12905 non-null  float64\n",
      " 69  race_pacific                           12905 non-null  float64\n",
      " 70  race_other                             12905 non-null  float64\n",
      " 71  race_multiple                          12905 non-null  float64\n",
      " 72  hispanic                               12905 non-null  float64\n",
      " 73  disabled                               12905 non-null  float64\n",
      " 74  poverty                                12902 non-null  float64\n",
      " 75  limited_english                        12902 non-null  float64\n",
      " 76  commute_time                           12905 non-null  float64\n",
      " 77  health_uninsured                       12905 non-null  float64\n",
      " 78  veteran                                12905 non-null  float64\n",
      " 79  Ozone                                  12877 non-null  float64\n",
      " 80  PM25                                   12877 non-null  float64\n",
      " 81  N02                                    12877 non-null  float64\n",
      " 82  DiagPeriodL90D                         12906 non-null  int64  \n",
      "dtypes: float64(68), int64(4), object(11)\n",
      "memory usage: 8.2+ MB\n"
     ]
    }
   ],
   "source": [
    "medical.info()"
   ]
  },
  {
   "cell_type": "markdown",
   "source": [
    "There are a lot of missing values...Few features have the full (12906 examples non-null)."
   ],
   "metadata": {
    "collapsed": false
   }
  },
  {
   "cell_type": "code",
   "outputs": [
    {
     "data": {
      "text/plain": "patient_gender\nF    12906\nName: count, dtype: int64"
     },
     "execution_count": 5,
     "metadata": {},
     "output_type": "execute_result"
    }
   ],
   "source": [
    "medical[\"patient_gender\"].value_counts()"
   ],
   "metadata": {
    "collapsed": false,
    "ExecuteTime": {
     "end_time": "2024-04-01T11:41:35.848900Z",
     "start_time": "2024-04-01T11:41:35.844460Z"
    }
   },
   "execution_count": 5
  },
  {
   "cell_type": "markdown",
   "source": [
    "Because the coloumn patient_state has all the values Female we should drop the coloumn, it's irrelevant. "
   ],
   "metadata": {
    "collapsed": false
   }
  },
  {
   "cell_type": "code",
   "outputs": [
    {
     "data": {
      "text/plain": "patient_state\nCA    2438\nTX    1155\nNY    1041\nMI     858\nIL     782\nOH     754\nFL     609\nGA     551\nPA     483\nMN     377\nCO     371\nVA     365\nIN     317\nKY     259\nAZ     229\nWI     212\nWA     200\nNC     186\nMO     160\nNM     141\nLA     139\nTN     112\nSC     110\nID      93\nOK      93\nOR      89\nIA      86\nMS      76\nMD      71\nAR      63\nNV      62\nKS      50\nAL      50\nMT      45\nNE      40\nUT      36\nDE      33\nWV      27\nHI      21\nNJ      21\nDC      20\nSD       8\nND       6\nAK       6\nWY       4\nCT       2\nPR       1\nRI       1\nNH       1\nMA       1\nName: count, dtype: int64"
     },
     "execution_count": 6,
     "metadata": {},
     "output_type": "execute_result"
    }
   ],
   "source": [
    "medical[\"patient_state\"].value_counts()"
   ],
   "metadata": {
    "collapsed": false,
    "ExecuteTime": {
     "end_time": "2024-04-01T11:41:38.042540Z",
     "start_time": "2024-04-01T11:41:38.034161Z"
    }
   },
   "execution_count": 6
  },
  {
   "cell_type": "markdown",
   "source": [
    "I want to look for a correlation between the zip-code and patient-state"
   ],
   "metadata": {
    "collapsed": false
   }
  },
  {
   "cell_type": "markdown",
   "source": [],
   "metadata": {
    "collapsed": false
   }
  },
  {
   "cell_type": "code",
   "outputs": [
    {
     "data": {
      "text/plain": "patient_state2\n 0     2438\n 1     1155\n 3     1041\n 5      858\n 4      782\n 9      754\n 11     609\n 13     551\n 18     483\n 21     377\n 12     371\n 14     365\n 10     317\n 8      259\n 30     229\n 17     212\n 20     200\n 22     186\n 31     160\n 19     141\n 25     139\n 27     112\n 24     110\n 2       93\n 39      93\n 6       89\n 26      86\n 43      76\n 15      71\n 35      63\n 32      62\n-1       51\n 16      50\n 23      50\n 7       45\n 29      40\n 36      36\n 41      33\n 37      27\n 42      21\n 28      21\n 34      20\n 33       8\n 38       6\n 44       6\n 40       4\n 47       2\n 45       1\n 46       1\n 48       1\n 49       1\nName: count, dtype: int64"
     },
     "execution_count": 51,
     "metadata": {},
     "output_type": "execute_result"
    }
   ],
   "source": [
    "medical[\"patient_state2\"] = pd.factorize(medical[\"patient_state\"])[0]\n",
    "medical['patient_state2'].value_counts()"
   ],
   "metadata": {
    "collapsed": false,
    "ExecuteTime": {
     "end_time": "2024-03-29T15:56:09.791763Z",
     "start_time": "2024-03-29T15:56:09.781039Z"
    }
   },
   "execution_count": 51
  },
  {
   "cell_type": "code",
   "outputs": [
    {
     "data": {
      "text/plain": "                patient_state2  patient_zip3\npatient_state2        1.000000     -0.237289\npatient_zip3         -0.237289      1.000000",
      "text/html": "<div>\n<style scoped>\n    .dataframe tbody tr th:only-of-type {\n        vertical-align: middle;\n    }\n\n    .dataframe tbody tr th {\n        vertical-align: top;\n    }\n\n    .dataframe thead th {\n        text-align: right;\n    }\n</style>\n<table border=\"1\" class=\"dataframe\">\n  <thead>\n    <tr style=\"text-align: right;\">\n      <th></th>\n      <th>patient_state2</th>\n      <th>patient_zip3</th>\n    </tr>\n  </thead>\n  <tbody>\n    <tr>\n      <th>patient_state2</th>\n      <td>1.000000</td>\n      <td>-0.237289</td>\n    </tr>\n    <tr>\n      <th>patient_zip3</th>\n      <td>-0.237289</td>\n      <td>1.000000</td>\n    </tr>\n  </tbody>\n</table>\n</div>"
     },
     "execution_count": 55,
     "metadata": {},
     "output_type": "execute_result"
    }
   ],
   "source": [
    "medical[[\"patient_state2\",\"patient_zip3\"]].corr() #TODO: rescrie linia in engleza sau putea sa nu fie deajuns corr pt justificare :)"
   ],
   "metadata": {
    "collapsed": false,
    "ExecuteTime": {
     "end_time": "2024-03-29T16:09:15.694413Z",
     "start_time": "2024-03-29T16:09:15.685253Z"
    }
   },
   "execution_count": 55
  },
  {
   "cell_type": "markdown",
   "source": [
    "Din cauza ca corelatia e 0.2 e mai greu sa ne dam seama "
   ],
   "metadata": {
    "collapsed": false
   }
  },
  {
   "cell_type": "code",
   "outputs": [],
   "source": [
    "from sklearn.preprocessing import LabelEncoder\n",
    "\n",
    "medical2 = load_medical_data()\n",
    "\n",
    "numeric_cols = medical2.select_dtypes(include=['int', 'float']).columns\n",
    "categorical_cols = medical2.select_dtypes(include=['object', 'string']).columns\n",
    "\n",
    "# Encode categorical variables\n",
    "label_encoders = {}\n",
    "for col in categorical_cols:\n",
    "    label_encoders[col] = LabelEncoder()\n",
    "    medical2[col] = label_encoders[col].fit_transform(medical2[col])\n",
    "\n",
    "# Normalize numerical data (optional)\n",
    "# df[numeric_cols] = (df[numeric_cols] - df[numeric_cols].mean()) / df[numeric_cols].std()\n",
    "\n",
    "# Observing correlations\n",
    "correlation_matrix = medical2.corr()\n",
    "\n",
    "# Sort correlation matrix to show biggest correlations on top\n",
    "sorted_correlation_matrix = correlation_matrix.unstack().sort_values(ascending=False).drop_duplicates()\n",
    "# sorted_correlation_matrix\n",
    "\n",
    "correlations_with_DiagPeriodL90D = correlation_matrix['DiagPeriodL90D'].sort_values(ascending=False)\n",
    "\n",
    "# Sort correlation matrix to show biggest correlations on top\n",
    "sorted_correlations_with_DiagPeriodL90D = correlations_with_DiagPeriodL90D.drop_duplicates()\n",
    "sorted_correlations_with_DiagPeriodL90D"
   ],
   "metadata": {
    "collapsed": false
   }
  },
  {
   "cell_type": "markdown",
   "source": [
    "I want to look for the correlation bewteen the features"
   ],
   "metadata": {
    "collapsed": false
   }
  },
  {
   "cell_type": "code",
   "execution_count": 7,
   "metadata": {
    "id": "GA8YWTEY1wR5",
    "outputId": "332872c0-f6cb-4308-94d9-ba1d837165a7",
    "ExecuteTime": {
     "end_time": "2024-04-01T11:44:40.817681Z",
     "start_time": "2024-04-01T11:44:40.746617Z"
    }
   },
   "outputs": [
    {
     "data": {
      "text/plain": "          patient_id  patient_zip3   patient_age          bmi    population  \\\ncount   12906.000000  12906.000000  12906.000000  3941.000000  12905.000000   \nmean   547381.196033    573.754300     59.183326    28.984539  20744.441237   \nstd    260404.959974    275.447534     13.335216     5.696906  13886.903756   \nmin    100063.000000    101.000000     18.000000    14.000000    635.545455   \n25%    321517.000000    331.000000     50.000000    24.660000   9463.896552   \n50%    543522.000000    554.000000     59.000000    28.190000  19154.190480   \n75%    772671.750000    846.000000     67.000000    32.920000  30021.278690   \nmax    999896.000000    999.000000     91.000000    85.000000  71374.131580   \n\n            density    age_median  age_under_10  age_10_to_19       age_20s  \\\ncount  12905.000000  12905.000000  12905.000000  12905.000000  12905.000000   \nmean    1581.950419     40.502259     11.122784     12.945265     13.290376   \nstd     2966.305306      4.036963      1.512376      1.923974      3.354103   \nmin        0.916667     20.600000      0.000000      6.314286      5.925000   \n25%      171.857143     37.129825     10.160000     11.741176     11.013415   \n50%      700.337500     40.639344     11.039216     12.923944     12.538095   \n75%     1666.515385     42.934783     12.190000     14.019767     14.971053   \nmax    21172.000000     54.570000     17.675000     35.300000     62.100000   \n\n       ...      disabled       poverty  limited_english  commute_time  \\\ncount  ...  12905.000000  12902.000000     12902.000000  12905.000000   \nmean   ...     13.335299     13.406950         4.474956     27.978387   \nstd    ...      3.690949      5.222495         4.837085      5.083939   \nmin    ...      4.600000      3.433333         0.000000     12.460784   \n25%    ...     10.270492      9.663333         0.994444     24.933333   \n50%    ...     12.884000     12.177778         2.747222     27.788235   \n75%    ...     15.555405     16.635556         5.976000     30.709375   \nmax    ...     35.155556     38.347826        26.755000     48.020000   \n\n       health_uninsured       veteran         Ozone          PM25  \\\ncount      12905.000000  12905.000000  12877.000000  12877.000000   \nmean           8.575284      7.083376     39.822352      7.475221   \nstd            4.203482      3.109022      3.559492      1.516499   \nmin            2.440000      1.200000     30.939316      2.636008   \n25%            5.618750      4.929688     37.698880      6.651215   \n50%            7.465714      6.847059     39.108249      7.686577   \n75%           10.617442      8.620000     41.136513      8.276922   \nmax           27.566102     25.200000     52.237210     11.169408   \n\n                N02  DiagPeriodL90D  \ncount  12877.000000    12906.000000  \nmean      16.098988        0.624516  \nstd        5.842501        0.484266  \nmin        2.760371        0.000000  \n25%       11.280694        0.000000  \n50%       15.589148        1.000000  \n75%       20.801880        1.000000  \nmax       31.504775        1.000000  \n\n[8 rows x 72 columns]",
      "text/html": "<div>\n<style scoped>\n    .dataframe tbody tr th:only-of-type {\n        vertical-align: middle;\n    }\n\n    .dataframe tbody tr th {\n        vertical-align: top;\n    }\n\n    .dataframe thead th {\n        text-align: right;\n    }\n</style>\n<table border=\"1\" class=\"dataframe\">\n  <thead>\n    <tr style=\"text-align: right;\">\n      <th></th>\n      <th>patient_id</th>\n      <th>patient_zip3</th>\n      <th>patient_age</th>\n      <th>bmi</th>\n      <th>population</th>\n      <th>density</th>\n      <th>age_median</th>\n      <th>age_under_10</th>\n      <th>age_10_to_19</th>\n      <th>age_20s</th>\n      <th>...</th>\n      <th>disabled</th>\n      <th>poverty</th>\n      <th>limited_english</th>\n      <th>commute_time</th>\n      <th>health_uninsured</th>\n      <th>veteran</th>\n      <th>Ozone</th>\n      <th>PM25</th>\n      <th>N02</th>\n      <th>DiagPeriodL90D</th>\n    </tr>\n  </thead>\n  <tbody>\n    <tr>\n      <th>count</th>\n      <td>12906.000000</td>\n      <td>12906.000000</td>\n      <td>12906.000000</td>\n      <td>3941.000000</td>\n      <td>12905.000000</td>\n      <td>12905.000000</td>\n      <td>12905.000000</td>\n      <td>12905.000000</td>\n      <td>12905.000000</td>\n      <td>12905.000000</td>\n      <td>...</td>\n      <td>12905.000000</td>\n      <td>12902.000000</td>\n      <td>12902.000000</td>\n      <td>12905.000000</td>\n      <td>12905.000000</td>\n      <td>12905.000000</td>\n      <td>12877.000000</td>\n      <td>12877.000000</td>\n      <td>12877.000000</td>\n      <td>12906.000000</td>\n    </tr>\n    <tr>\n      <th>mean</th>\n      <td>547381.196033</td>\n      <td>573.754300</td>\n      <td>59.183326</td>\n      <td>28.984539</td>\n      <td>20744.441237</td>\n      <td>1581.950419</td>\n      <td>40.502259</td>\n      <td>11.122784</td>\n      <td>12.945265</td>\n      <td>13.290376</td>\n      <td>...</td>\n      <td>13.335299</td>\n      <td>13.406950</td>\n      <td>4.474956</td>\n      <td>27.978387</td>\n      <td>8.575284</td>\n      <td>7.083376</td>\n      <td>39.822352</td>\n      <td>7.475221</td>\n      <td>16.098988</td>\n      <td>0.624516</td>\n    </tr>\n    <tr>\n      <th>std</th>\n      <td>260404.959974</td>\n      <td>275.447534</td>\n      <td>13.335216</td>\n      <td>5.696906</td>\n      <td>13886.903756</td>\n      <td>2966.305306</td>\n      <td>4.036963</td>\n      <td>1.512376</td>\n      <td>1.923974</td>\n      <td>3.354103</td>\n      <td>...</td>\n      <td>3.690949</td>\n      <td>5.222495</td>\n      <td>4.837085</td>\n      <td>5.083939</td>\n      <td>4.203482</td>\n      <td>3.109022</td>\n      <td>3.559492</td>\n      <td>1.516499</td>\n      <td>5.842501</td>\n      <td>0.484266</td>\n    </tr>\n    <tr>\n      <th>min</th>\n      <td>100063.000000</td>\n      <td>101.000000</td>\n      <td>18.000000</td>\n      <td>14.000000</td>\n      <td>635.545455</td>\n      <td>0.916667</td>\n      <td>20.600000</td>\n      <td>0.000000</td>\n      <td>6.314286</td>\n      <td>5.925000</td>\n      <td>...</td>\n      <td>4.600000</td>\n      <td>3.433333</td>\n      <td>0.000000</td>\n      <td>12.460784</td>\n      <td>2.440000</td>\n      <td>1.200000</td>\n      <td>30.939316</td>\n      <td>2.636008</td>\n      <td>2.760371</td>\n      <td>0.000000</td>\n    </tr>\n    <tr>\n      <th>25%</th>\n      <td>321517.000000</td>\n      <td>331.000000</td>\n      <td>50.000000</td>\n      <td>24.660000</td>\n      <td>9463.896552</td>\n      <td>171.857143</td>\n      <td>37.129825</td>\n      <td>10.160000</td>\n      <td>11.741176</td>\n      <td>11.013415</td>\n      <td>...</td>\n      <td>10.270492</td>\n      <td>9.663333</td>\n      <td>0.994444</td>\n      <td>24.933333</td>\n      <td>5.618750</td>\n      <td>4.929688</td>\n      <td>37.698880</td>\n      <td>6.651215</td>\n      <td>11.280694</td>\n      <td>0.000000</td>\n    </tr>\n    <tr>\n      <th>50%</th>\n      <td>543522.000000</td>\n      <td>554.000000</td>\n      <td>59.000000</td>\n      <td>28.190000</td>\n      <td>19154.190480</td>\n      <td>700.337500</td>\n      <td>40.639344</td>\n      <td>11.039216</td>\n      <td>12.923944</td>\n      <td>12.538095</td>\n      <td>...</td>\n      <td>12.884000</td>\n      <td>12.177778</td>\n      <td>2.747222</td>\n      <td>27.788235</td>\n      <td>7.465714</td>\n      <td>6.847059</td>\n      <td>39.108249</td>\n      <td>7.686577</td>\n      <td>15.589148</td>\n      <td>1.000000</td>\n    </tr>\n    <tr>\n      <th>75%</th>\n      <td>772671.750000</td>\n      <td>846.000000</td>\n      <td>67.000000</td>\n      <td>32.920000</td>\n      <td>30021.278690</td>\n      <td>1666.515385</td>\n      <td>42.934783</td>\n      <td>12.190000</td>\n      <td>14.019767</td>\n      <td>14.971053</td>\n      <td>...</td>\n      <td>15.555405</td>\n      <td>16.635556</td>\n      <td>5.976000</td>\n      <td>30.709375</td>\n      <td>10.617442</td>\n      <td>8.620000</td>\n      <td>41.136513</td>\n      <td>8.276922</td>\n      <td>20.801880</td>\n      <td>1.000000</td>\n    </tr>\n    <tr>\n      <th>max</th>\n      <td>999896.000000</td>\n      <td>999.000000</td>\n      <td>91.000000</td>\n      <td>85.000000</td>\n      <td>71374.131580</td>\n      <td>21172.000000</td>\n      <td>54.570000</td>\n      <td>17.675000</td>\n      <td>35.300000</td>\n      <td>62.100000</td>\n      <td>...</td>\n      <td>35.155556</td>\n      <td>38.347826</td>\n      <td>26.755000</td>\n      <td>48.020000</td>\n      <td>27.566102</td>\n      <td>25.200000</td>\n      <td>52.237210</td>\n      <td>11.169408</td>\n      <td>31.504775</td>\n      <td>1.000000</td>\n    </tr>\n  </tbody>\n</table>\n<p>8 rows × 72 columns</p>\n</div>"
     },
     "execution_count": 7,
     "metadata": {},
     "output_type": "execute_result"
    }
   ],
   "source": [
    "medical.describe()"
   ]
  },
  {
   "cell_type": "code",
   "execution_count": 10,
   "metadata": {
    "id": "jv8VA4WN1wR6",
    "outputId": "d9573560-0b5d-4b9b-a92b-dcef5d8e329b",
    "ExecuteTime": {
     "end_time": "2024-03-30T11:27:57.119647Z",
     "start_time": "2024-03-30T11:27:48.317232Z"
    }
   },
   "outputs": [
    {
     "name": "stdout",
     "output_type": "stream",
     "text": [
      "Saving figure attribute_histogram_plots\n"
     ]
    },
    {
     "data": {
      "text/plain": "<Figure size 2000x1500 with 72 Axes>",
      "image/png": "[encoded data removed]"
     },
     "metadata": {},
     "output_type": "display_data"
    }
   ],
   "source": [
    "%matplotlib inline\n",
    "import matplotlib.pyplot as plt\n",
    "medical.hist(bins=50, figsize=(20,15))\n",
    "save_fig(\"attribute_histogram_plots\")\n",
    "plt.show()"
   ]
  },
  {
   "cell_type": "markdown",
   "metadata": {
    "id": "5zSxrEJi1wR6"
   },
   "source": [
    " "
   ]
  },
  {
   "cell_type": "markdown",
   "metadata": {
    "id": "SVMG2rGh1wSD"
   },
   "source": [
    "If you want an implementation that supports any hash function and is compatible with both Python 2 and Python 3, here is one:"
   ]
  },
  {
   "cell_type": "code",
   "execution_count": null,
   "metadata": {
    "id": "AWCICdrf1wSF",
    "outputId": "d008f1f2-74bb-450e-a6d1-04fbf9238e16",
    "ExecuteTime": {
     "start_time": "2024-03-23T12:57:08.938654800Z"
    }
   },
   "outputs": [],
   "source": [
    "medical[\"median_income\"].hist()"
   ]
  },
  {
   "cell_type": "code",
   "execution_count": null,
   "metadata": {
    "id": "UWtZwg5r1wSG",
    "ExecuteTime": {
     "start_time": "2024-03-23T12:57:08.940653500Z"
    }
   },
   "outputs": [],
   "source": [
    "medical[\"income_cat\"] = pd.cut(medical[\"median_income\"],\n",
    "                               bins=[0., 1.5, 3.0, 4.5, 6., np.inf],\n",
    "                               labels=[1, 2, 3, 4, 5])"
   ]
  },
  {
   "cell_type": "code",
   "execution_count": null,
   "metadata": {
    "id": "mVwJl4eL1wSG",
    "outputId": "28f9f0d7-e37d-4087-e155-2a5c60b4920c",
    "ExecuteTime": {
     "start_time": "2024-03-23T12:57:08.942655Z"
    }
   },
   "outputs": [],
   "source": [
    "medical[\"income_cat\"].value_counts()"
   ]
  },
  {
   "cell_type": "code",
   "execution_count": null,
   "metadata": {
    "id": "m5VJPNpM1wSH",
    "outputId": "da29c1bb-2de5-434d-c709-f207fc2590e8",
    "ExecuteTime": {
     "start_time": "2024-03-23T12:57:08.944655700Z"
    }
   },
   "outputs": [],
   "source": [
    "medical[\"income_cat\"].hist()"
   ]
  },
  {
   "cell_type": "code",
   "execution_count": null,
   "metadata": {
    "id": "bsreQ_KS1wSH",
    "ExecuteTime": {
     "start_time": "2024-03-23T12:57:08.946652700Z"
    }
   },
   "outputs": [],
   "source": [
    "from sklearn.model_selection import StratifiedShuffleSplit\n",
    "\n",
    "split = StratifiedShuffleSplit(n_splits=1, test_size=0.2, random_state=42)\n",
    "for train_index, test_index in split.split(medical, medical[\"income_cat\"]):\n",
    "    strat_train_set = medical.loc[train_index]\n",
    "    strat_test_set = medical.loc[test_index]"
   ]
  },
  {
   "cell_type": "code",
   "execution_count": null,
   "metadata": {
    "id": "bMyR82w51wSH",
    "outputId": "e031094c-867a-438f-ff8d-8b8b755e1f3c",
    "ExecuteTime": {
     "start_time": "2024-03-23T12:57:08.948653700Z"
    }
   },
   "outputs": [],
   "source": [
    "strat_test_set[\"income_cat\"].value_counts() / len(strat_test_set)"
   ]
  },
  {
   "cell_type": "code",
   "execution_count": null,
   "metadata": {
    "id": "GhiEtq_E1wSI",
    "outputId": "e6c0f893-3a55-4bff-b954-2939469e2764",
    "ExecuteTime": {
     "start_time": "2024-03-23T12:57:08.950654400Z"
    }
   },
   "outputs": [],
   "source": [
    "medical[\"income_cat\"].value_counts() / len(medical)"
   ]
  },
  {
   "cell_type": "code",
   "execution_count": null,
   "metadata": {
    "id": "Rdh4ivUU1wSI",
    "ExecuteTime": {
     "start_time": "2024-03-23T12:57:08.952654100Z"
    }
   },
   "outputs": [],
   "source": [
    "def income_cat_proportions(data):\n",
    "    return data[\"income_cat\"].value_counts() / len(data)\n",
    "\n",
    "compare_props = pd.DataFrame({\n",
    "    \"Overall\": income_cat_proportions(medical),\n",
    "    \"Stratified\": income_cat_proportions(strat_test_set),\n",
    "}).sort_index()\n",
    "compare_props[\"Rand. %error\"] = 100 * compare_props[\"Random\"] / compare_props[\"Overall\"] - 100\n",
    "compare_props[\"Strat. %error\"] = 100 * compare_props[\"Stratified\"] / compare_props[\"Overall\"] - 100"
   ]
  },
  {
   "cell_type": "code",
   "execution_count": null,
   "metadata": {
    "id": "IqtCMRWp1wSJ",
    "outputId": "15027808-bc24-4225-d3cf-11da8212e401",
    "ExecuteTime": {
     "start_time": "2024-03-23T12:57:08.954656300Z"
    }
   },
   "outputs": [],
   "source": [
    "compare_props"
   ]
  },
  {
   "cell_type": "code",
   "execution_count": null,
   "metadata": {
    "id": "r632m0gV1wSJ",
    "ExecuteTime": {
     "start_time": "2024-03-23T12:57:08.955653300Z"
    }
   },
   "outputs": [],
   "source": [
    "for set_ in (strat_train_set, strat_test_set):\n",
    "    set_.drop(\"income_cat\", axis=1, inplace=True)"
   ]
  },
  {
   "cell_type": "markdown",
   "metadata": {
    "id": "Xyi6m4J21wSJ"
   },
   "source": [
    "# Discover and Visualize the Data to Gain Insights"
   ]
  },
  {
   "cell_type": "code",
   "execution_count": null,
   "metadata": {
    "id": "-FhXt_7Y1wSK",
    "ExecuteTime": {
     "start_time": "2024-03-23T12:57:08.957653700Z"
    }
   },
   "outputs": [],
   "source": [
    "medical = strat_train_set.copy()"
   ]
  },
  {
   "cell_type": "markdown",
   "metadata": {
    "id": "uUcV3hcD1wSK"
   },
   "source": [
    "## Visualizing Geographical Data"
   ]
  },
  {
   "cell_type": "code",
   "execution_count": null,
   "metadata": {
    "id": "BPBFA5B51wSK",
    "outputId": "bb9328bf-4d58-4720-a112-ac12c996d414",
    "ExecuteTime": {
     "start_time": "2024-03-23T12:57:08.959654700Z"
    }
   },
   "outputs": [],
   "source": [
    "medical.plot(kind=\"scatter\", x=\"longitude\", y=\"latitude\")\n",
    "save_fig(\"bad_visualization_plot\")"
   ]
  },
  {
   "cell_type": "code",
   "execution_count": null,
   "metadata": {
    "id": "cZxq2iMo1wSL",
    "outputId": "3562e8eb-446a-492d-bbec-5d90d561a284",
    "ExecuteTime": {
     "start_time": "2024-03-23T12:57:08.961655400Z"
    }
   },
   "outputs": [],
   "source": [
    "medical.plot(kind=\"scatter\", x=\"longitude\", y=\"latitude\", alpha=0.1)\n",
    "save_fig(\"better_visualization_plot\")"
   ]
  },
  {
   "cell_type": "markdown",
   "metadata": {
    "id": "rk0S-gay1wSL"
   },
   "source": [
    "The argument `sharex=False` fixes a display bug (the x-axis values and legend were not displayed). This is a temporary fix (see: https://github.com/pandas-dev/pandas/issues/10611 ). Thanks to Wilmer Arellano for pointing it out."
   ]
  },
  {
   "cell_type": "code",
   "execution_count": null,
   "metadata": {
    "id": "2jKHFIAL1wSL",
    "outputId": "c4f09129-cd63-4753-ced5-8c60ebd57295",
    "ExecuteTime": {
     "start_time": "2024-03-23T12:57:08.963657700Z"
    }
   },
   "outputs": [],
   "source": [
    "medical.plot(kind=\"scatter\", x=\"longitude\", y=\"latitude\", alpha=0.4,\n",
    "             s=medical[\"population\"]/100, label=\"population\", figsize=(10,7),\n",
    "             c=\"median_house_value\", cmap=plt.get_cmap(\"jet\"), colorbar=True,\n",
    "             sharex=False)\n",
    "plt.legend()\n",
    "save_fig(\"medical_prices_scatterplot\")"
   ]
  },
  {
   "cell_type": "markdown",
   "metadata": {
    "id": "ZfwyfU0a1wSO"
   },
   "source": [
    "## Looking for Correlations"
   ]
  },
  {
   "cell_type": "code",
   "execution_count": 52,
   "metadata": {
    "id": "BsuNAs9P1wSO",
    "ExecuteTime": {
     "end_time": "2024-03-29T16:05:30.236235Z",
     "start_time": "2024-03-29T16:05:30.082961Z"
    }
   },
   "outputs": [
    {
     "ename": "ValueError",
     "evalue": "could not convert string to float: 'White'",
     "output_type": "error",
     "traceback": [
      "\u001B[1;31m---------------------------------------------------------------------------\u001B[0m",
      "\u001B[1;31mValueError\u001B[0m                                Traceback (most recent call last)",
      "Cell \u001B[1;32mIn[52], line 1\u001B[0m\n\u001B[1;32m----> 1\u001B[0m corr_matrix \u001B[38;5;241m=\u001B[39m \u001B[43mmedical\u001B[49m\u001B[38;5;241;43m.\u001B[39;49m\u001B[43mcorr\u001B[49m\u001B[43m(\u001B[49m\u001B[43m)\u001B[49m\n",
      "File \u001B[1;32mE:\\D_Temp\\anu 3\\sem 2\\si\\analizare_date\\.venv\\Lib\\site-packages\\pandas\\core\\frame.py:11036\u001B[0m, in \u001B[0;36mDataFrame.corr\u001B[1;34m(self, method, min_periods, numeric_only)\u001B[0m\n\u001B[0;32m  11034\u001B[0m cols \u001B[38;5;241m=\u001B[39m data\u001B[38;5;241m.\u001B[39mcolumns\n\u001B[0;32m  11035\u001B[0m idx \u001B[38;5;241m=\u001B[39m cols\u001B[38;5;241m.\u001B[39mcopy()\n\u001B[1;32m> 11036\u001B[0m mat \u001B[38;5;241m=\u001B[39m \u001B[43mdata\u001B[49m\u001B[38;5;241;43m.\u001B[39;49m\u001B[43mto_numpy\u001B[49m\u001B[43m(\u001B[49m\u001B[43mdtype\u001B[49m\u001B[38;5;241;43m=\u001B[39;49m\u001B[38;5;28;43mfloat\u001B[39;49m\u001B[43m,\u001B[49m\u001B[43m \u001B[49m\u001B[43mna_value\u001B[49m\u001B[38;5;241;43m=\u001B[39;49m\u001B[43mnp\u001B[49m\u001B[38;5;241;43m.\u001B[39;49m\u001B[43mnan\u001B[49m\u001B[43m,\u001B[49m\u001B[43m \u001B[49m\u001B[43mcopy\u001B[49m\u001B[38;5;241;43m=\u001B[39;49m\u001B[38;5;28;43;01mFalse\u001B[39;49;00m\u001B[43m)\u001B[49m\n\u001B[0;32m  11038\u001B[0m \u001B[38;5;28;01mif\u001B[39;00m method \u001B[38;5;241m==\u001B[39m \u001B[38;5;124m\"\u001B[39m\u001B[38;5;124mpearson\u001B[39m\u001B[38;5;124m\"\u001B[39m:\n\u001B[0;32m  11039\u001B[0m     correl \u001B[38;5;241m=\u001B[39m libalgos\u001B[38;5;241m.\u001B[39mnancorr(mat, minp\u001B[38;5;241m=\u001B[39mmin_periods)\n",
      "File \u001B[1;32mE:\\D_Temp\\anu 3\\sem 2\\si\\analizare_date\\.venv\\Lib\\site-packages\\pandas\\core\\frame.py:1981\u001B[0m, in \u001B[0;36mDataFrame.to_numpy\u001B[1;34m(self, dtype, copy, na_value)\u001B[0m\n\u001B[0;32m   1979\u001B[0m \u001B[38;5;28;01mif\u001B[39;00m dtype \u001B[38;5;129;01mis\u001B[39;00m \u001B[38;5;129;01mnot\u001B[39;00m \u001B[38;5;28;01mNone\u001B[39;00m:\n\u001B[0;32m   1980\u001B[0m     dtype \u001B[38;5;241m=\u001B[39m np\u001B[38;5;241m.\u001B[39mdtype(dtype)\n\u001B[1;32m-> 1981\u001B[0m result \u001B[38;5;241m=\u001B[39m \u001B[38;5;28;43mself\u001B[39;49m\u001B[38;5;241;43m.\u001B[39;49m\u001B[43m_mgr\u001B[49m\u001B[38;5;241;43m.\u001B[39;49m\u001B[43mas_array\u001B[49m\u001B[43m(\u001B[49m\u001B[43mdtype\u001B[49m\u001B[38;5;241;43m=\u001B[39;49m\u001B[43mdtype\u001B[49m\u001B[43m,\u001B[49m\u001B[43m \u001B[49m\u001B[43mcopy\u001B[49m\u001B[38;5;241;43m=\u001B[39;49m\u001B[43mcopy\u001B[49m\u001B[43m,\u001B[49m\u001B[43m \u001B[49m\u001B[43mna_value\u001B[49m\u001B[38;5;241;43m=\u001B[39;49m\u001B[43mna_value\u001B[49m\u001B[43m)\u001B[49m\n\u001B[0;32m   1982\u001B[0m \u001B[38;5;28;01mif\u001B[39;00m result\u001B[38;5;241m.\u001B[39mdtype \u001B[38;5;129;01mis\u001B[39;00m \u001B[38;5;129;01mnot\u001B[39;00m dtype:\n\u001B[0;32m   1983\u001B[0m     result \u001B[38;5;241m=\u001B[39m np\u001B[38;5;241m.\u001B[39marray(result, dtype\u001B[38;5;241m=\u001B[39mdtype, copy\u001B[38;5;241m=\u001B[39m\u001B[38;5;28;01mFalse\u001B[39;00m)\n",
      "File \u001B[1;32mE:\\D_Temp\\anu 3\\sem 2\\si\\analizare_date\\.venv\\Lib\\site-packages\\pandas\\core\\internals\\managers.py:1692\u001B[0m, in \u001B[0;36mBlockManager.as_array\u001B[1;34m(self, dtype, copy, na_value)\u001B[0m\n\u001B[0;32m   1690\u001B[0m         arr\u001B[38;5;241m.\u001B[39mflags\u001B[38;5;241m.\u001B[39mwriteable \u001B[38;5;241m=\u001B[39m \u001B[38;5;28;01mFalse\u001B[39;00m\n\u001B[0;32m   1691\u001B[0m \u001B[38;5;28;01melse\u001B[39;00m:\n\u001B[1;32m-> 1692\u001B[0m     arr \u001B[38;5;241m=\u001B[39m \u001B[38;5;28;43mself\u001B[39;49m\u001B[38;5;241;43m.\u001B[39;49m\u001B[43m_interleave\u001B[49m\u001B[43m(\u001B[49m\u001B[43mdtype\u001B[49m\u001B[38;5;241;43m=\u001B[39;49m\u001B[43mdtype\u001B[49m\u001B[43m,\u001B[49m\u001B[43m \u001B[49m\u001B[43mna_value\u001B[49m\u001B[38;5;241;43m=\u001B[39;49m\u001B[43mna_value\u001B[49m\u001B[43m)\u001B[49m\n\u001B[0;32m   1693\u001B[0m     \u001B[38;5;66;03m# The underlying data was copied within _interleave, so no need\u001B[39;00m\n\u001B[0;32m   1694\u001B[0m     \u001B[38;5;66;03m# to further copy if copy=True or setting na_value\u001B[39;00m\n\u001B[0;32m   1696\u001B[0m \u001B[38;5;28;01mif\u001B[39;00m na_value \u001B[38;5;129;01mis\u001B[39;00m lib\u001B[38;5;241m.\u001B[39mno_default:\n",
      "File \u001B[1;32mE:\\D_Temp\\anu 3\\sem 2\\si\\analizare_date\\.venv\\Lib\\site-packages\\pandas\\core\\internals\\managers.py:1751\u001B[0m, in \u001B[0;36mBlockManager._interleave\u001B[1;34m(self, dtype, na_value)\u001B[0m\n\u001B[0;32m   1749\u001B[0m     \u001B[38;5;28;01melse\u001B[39;00m:\n\u001B[0;32m   1750\u001B[0m         arr \u001B[38;5;241m=\u001B[39m blk\u001B[38;5;241m.\u001B[39mget_values(dtype)\n\u001B[1;32m-> 1751\u001B[0m     \u001B[43mresult\u001B[49m\u001B[43m[\u001B[49m\u001B[43mrl\u001B[49m\u001B[38;5;241;43m.\u001B[39;49m\u001B[43mindexer\u001B[49m\u001B[43m]\u001B[49m \u001B[38;5;241m=\u001B[39m arr\n\u001B[0;32m   1752\u001B[0m     itemmask[rl\u001B[38;5;241m.\u001B[39mindexer] \u001B[38;5;241m=\u001B[39m \u001B[38;5;241m1\u001B[39m\n\u001B[0;32m   1754\u001B[0m \u001B[38;5;28;01mif\u001B[39;00m \u001B[38;5;129;01mnot\u001B[39;00m itemmask\u001B[38;5;241m.\u001B[39mall():\n",
      "\u001B[1;31mValueError\u001B[0m: could not convert string to float: 'White'"
     ]
    }
   ],
   "source": [
    "corr_matrix = medical.corr()"
   ]
  },
  {
   "cell_type": "code",
   "execution_count": null,
   "metadata": {
    "id": "HhpS1YgU1wSO",
    "outputId": "d34d7bb3-ca38-48d8-8904-0690720caa24",
    "ExecuteTime": {
     "start_time": "2024-03-23T12:57:08.972653200Z"
    }
   },
   "outputs": [],
   "source": [
    "corr_matrix[\"median_house_value\"].sort_values(ascending=False)"
   ]
  },
  {
   "cell_type": "code",
   "execution_count": null,
   "metadata": {
    "id": "k6gZ_71m1wSO",
    "outputId": "63c62ecf-e9e2-455d-a311-e30b0903b4a0",
    "ExecuteTime": {
     "start_time": "2024-03-23T12:57:08.975653800Z"
    }
   },
   "outputs": [],
   "source": [
    "# from pandas.tools.plotting import scatter_matrix # For older versions of Pandas\n",
    "from pandas.plotting import scatter_matrix\n",
    "\n",
    "attributes = [\"median_house_value\", \"median_income\", \"total_rooms\",\n",
    "              \"medical_median_age\"]\n",
    "scatter_matrix(medical[attributes], figsize=(12, 8))\n",
    "save_fig(\"scatter_matrix_plot\")"
   ]
  },
  {
   "cell_type": "code",
   "execution_count": null,
   "metadata": {
    "id": "riVHk7o81wSP",
    "outputId": "81933f66-24f4-4c60-89d9-952af92d2b25",
    "ExecuteTime": {
     "start_time": "2024-03-23T12:57:08.977654900Z"
    }
   },
   "outputs": [],
   "source": [
    "medical.plot(kind=\"scatter\", x=\"median_income\", y=\"median_house_value\",\n",
    "             alpha=0.1)\n",
    "plt.axis([0, 16, 0, 550000])\n",
    "save_fig(\"income_vs_house_value_scatterplot\")"
   ]
  },
  {
   "cell_type": "markdown",
   "metadata": {
    "id": "zX0Z7sB91wSP"
   },
   "source": [
    "## Experimenting with Attribute Combinations"
   ]
  },
  {
   "cell_type": "code",
   "execution_count": null,
   "metadata": {
    "id": "OwlJUlCm1wSP",
    "ExecuteTime": {
     "start_time": "2024-03-23T12:57:08.979654400Z"
    }
   },
   "outputs": [],
   "source": [
    "medical[\"rooms_per_household\"] = medical[\"total_rooms\"]/medical[\"households\"]\n",
    "medical[\"bedrooms_per_room\"] = medical[\"total_bedrooms\"]/medical[\"total_rooms\"]\n",
    "medical[\"population_per_household\"]=medical[\"population\"]/medical[\"households\"]"
   ]
  },
  {
   "cell_type": "code",
   "execution_count": null,
   "metadata": {
    "id": "sHV-4fKm1wSQ",
    "outputId": "77172da7-c6f6-44fc-c15a-9108e7a54e5a",
    "ExecuteTime": {
     "start_time": "2024-03-23T12:57:08.981654600Z"
    }
   },
   "outputs": [],
   "source": [
    "corr_matrix = medical.corr()\n",
    "corr_matrix[\"median_house_value\"].sort_values(ascending=False)"
   ]
  },
  {
   "cell_type": "code",
   "execution_count": null,
   "metadata": {
    "id": "adg9h71I1wSQ",
    "outputId": "7715dbde-16f2-4be0-b837-55259f94fa4d",
    "ExecuteTime": {
     "start_time": "2024-03-23T12:57:08.983655200Z"
    }
   },
   "outputs": [],
   "source": [
    "medical.plot(kind=\"scatter\", x=\"rooms_per_household\", y=\"median_house_value\",\n",
    "             alpha=0.2)\n",
    "plt.axis([0, 5, 0, 520000])\n",
    "plt.show()"
   ]
  },
  {
   "cell_type": "code",
   "execution_count": null,
   "metadata": {
    "id": "pIzbGX-B1wSR",
    "outputId": "2b395359-2080-48d3-d75a-22cee06103f8",
    "ExecuteTime": {
     "start_time": "2024-03-23T12:57:08.986657600Z"
    }
   },
   "outputs": [],
   "source": [
    "medical.describe()"
   ]
  },
  {
   "cell_type": "markdown",
   "metadata": {
    "id": "l6DbFVHl1wSR"
   },
   "source": [
    "# Prepare the Data for Machine Learning Algorithms"
   ]
  },
  {
   "cell_type": "code",
   "execution_count": null,
   "metadata": {
    "id": "CoVYLpVI1wSR",
    "ExecuteTime": {
     "start_time": "2024-03-23T12:57:08.990657100Z"
    }
   },
   "outputs": [],
   "source": [
    "medical = strat_train_set.drop(\"median_house_value\", axis=1) # drop labels for training set\n",
    "medical_labels = strat_train_set[\"median_house_value\"].copy()"
   ]
  },
  {
   "cell_type": "markdown",
   "metadata": {
    "id": "Uv3NxykP1wSS"
   },
   "source": [
    "## Data Cleaning"
   ]
  },
  {
   "cell_type": "markdown",
   "metadata": {
    "id": "nLbzvH1s1wSS"
   },
   "source": [
    "In the book 3 options are listed:\n",
    "\n",
    "```python\n",
    "medical.dropna(subset=[\"total_bedrooms\"])    # option 1\n",
    "medical.drop(\"total_bedrooms\", axis=1)       # option 2\n",
    "median = medical[\"total_bedrooms\"].median()  # option 3\n",
    "medical[\"total_bedrooms\"].fillna(median, inplace=True)\n",
    "```\n",
    "\n",
    "To demonstrate each of them, let's create a copy of the medical dataset, but keeping only the rows that contain at least one null. Then it will be easier to visualize exactly what each option does:"
   ]
  },
  {
   "cell_type": "code",
   "execution_count": null,
   "metadata": {
    "id": "MXHQLvZn1wSS",
    "outputId": "ec827330-c784-4208-8667-2fd2f0952f03",
    "ExecuteTime": {
     "start_time": "2024-03-23T12:57:08.994654700Z"
    }
   },
   "outputs": [],
   "source": [
    "sample_incomplete_rows = medical[medical.isnull().any(axis=1)].head()\n",
    "sample_incomplete_rows"
   ]
  },
  {
   "cell_type": "code",
   "execution_count": null,
   "metadata": {
    "id": "_xQF0jSY1wST",
    "outputId": "a92aa34e-ad69-4f15-a230-c1be5bbc49af",
    "ExecuteTime": {
     "start_time": "2024-03-23T12:57:08.997654300Z"
    }
   },
   "outputs": [],
   "source": [
    "sample_incomplete_rows.dropna(subset=[\"total_bedrooms\"])    # option 1"
   ]
  },
  {
   "cell_type": "code",
   "execution_count": null,
   "metadata": {
    "id": "h7kHDgov1wST",
    "outputId": "e0a02109-387f-4b84-9a3b-11f699e02ff3",
    "ExecuteTime": {
     "start_time": "2024-03-23T12:57:09.000655300Z"
    }
   },
   "outputs": [],
   "source": [
    "sample_incomplete_rows.drop(\"total_bedrooms\", axis=1)       # option 2"
   ]
  },
  {
   "cell_type": "code",
   "execution_count": null,
   "metadata": {
    "id": "L4p9_YlP1wST",
    "ExecuteTime": {
     "start_time": "2024-03-23T12:57:09.003655100Z"
    }
   },
   "outputs": [],
   "source": [
    "median = medical[\"total_bedrooms\"].median()\n",
    "sample_incomplete_rows[\"total_bedrooms\"].fillna(median, inplace=True) # option 3"
   ]
  },
  {
   "cell_type": "code",
   "execution_count": null,
   "metadata": {
    "id": "Apn6ugfX1wSU",
    "outputId": "06b20261-fc0f-4279-8236-3da8237b5783",
    "ExecuteTime": {
     "start_time": "2024-03-23T12:57:09.005654300Z"
    }
   },
   "outputs": [],
   "source": [
    "sample_incomplete_rows"
   ]
  },
  {
   "cell_type": "code",
   "execution_count": null,
   "metadata": {
    "id": "bcbAEGs_1wSU",
    "ExecuteTime": {
     "start_time": "2024-03-23T12:57:09.007654500Z"
    }
   },
   "outputs": [],
   "source": [
    "from sklearn.impute import SimpleImputer\n",
    "imputer = SimpleImputer(strategy=\"median\")"
   ]
  },
  {
   "cell_type": "markdown",
   "metadata": {
    "id": "cF-u1BSP1wSU"
   },
   "source": [
    "Remove the text attribute because median can only be calculated on numerical attributes:"
   ]
  },
  {
   "cell_type": "code",
   "execution_count": null,
   "metadata": {
    "id": "N8JInH091wSU",
    "ExecuteTime": {
     "start_time": "2024-03-23T12:57:09.009653Z"
    }
   },
   "outputs": [],
   "source": [
    "medical_num = medical.drop(\"ocean_proximity\", axis=1)\n",
    "# alternatively: medical_num = medical.select_dtypes(include=[np.number])"
   ]
  },
  {
   "cell_type": "code",
   "execution_count": null,
   "metadata": {
    "id": "0iGXkq-Q1wSV",
    "outputId": "10311d1f-65fb-43e3-977c-735f23c8ab6d",
    "ExecuteTime": {
     "start_time": "2024-03-23T12:57:09.011656100Z"
    }
   },
   "outputs": [],
   "source": [
    "imputer.fit(medical_num)"
   ]
  },
  {
   "cell_type": "code",
   "execution_count": null,
   "metadata": {
    "id": "Lcn-bmgn1wSV",
    "outputId": "cfbb3244-2b7d-4487-f820-0b20f4ea9beb",
    "ExecuteTime": {
     "start_time": "2024-03-23T12:57:09.013655700Z"
    }
   },
   "outputs": [],
   "source": [
    "imputer.statistics_"
   ]
  },
  {
   "cell_type": "markdown",
   "metadata": {
    "id": "-6WU7CNg1wSV"
   },
   "source": [
    "Check that this is the same as manually computing the median of each attribute:"
   ]
  },
  {
   "cell_type": "code",
   "execution_count": null,
   "metadata": {
    "id": "4vxdv9H91wSW",
    "outputId": "9354d63d-0303-4377-92b3-1f9c30fd574d",
    "ExecuteTime": {
     "start_time": "2024-03-23T12:57:09.015654700Z"
    }
   },
   "outputs": [],
   "source": [
    "medical_num.median().values"
   ]
  },
  {
   "cell_type": "markdown",
   "metadata": {
    "id": "xlXIn1Ln1wSW"
   },
   "source": [
    "Transform the training set:"
   ]
  },
  {
   "cell_type": "code",
   "execution_count": null,
   "metadata": {
    "id": "B-GwpcYd1wSW",
    "ExecuteTime": {
     "start_time": "2024-03-23T12:57:09.017653900Z"
    }
   },
   "outputs": [],
   "source": [
    "X = imputer.transform(medical_num)"
   ]
  },
  {
   "cell_type": "code",
   "execution_count": null,
   "metadata": {
    "id": "NRZU_lhW1wSX",
    "ExecuteTime": {
     "start_time": "2024-03-23T12:57:09.019653200Z"
    }
   },
   "outputs": [],
   "source": [
    "medical_tr = pd.DataFrame(X, columns=medical_num.columns,\n",
    "                          index=medical.index)"
   ]
  },
  {
   "cell_type": "code",
   "execution_count": null,
   "metadata": {
    "id": "cHShFK4r1wSX",
    "outputId": "972fb98f-6887-4810-b263-061377981c55",
    "ExecuteTime": {
     "start_time": "2024-03-23T12:57:09.021653200Z"
    }
   },
   "outputs": [],
   "source": [
    "medical_tr.loc[sample_incomplete_rows.index.values]"
   ]
  },
  {
   "cell_type": "code",
   "execution_count": null,
   "metadata": {
    "id": "fyr9cnK91wSX",
    "outputId": "4806b636-8184-47c8-b760-76495034db1b",
    "ExecuteTime": {
     "start_time": "2024-03-23T12:57:09.023654500Z"
    }
   },
   "outputs": [],
   "source": [
    "imputer.strategy"
   ]
  },
  {
   "cell_type": "code",
   "execution_count": null,
   "metadata": {
    "id": "kU-OnqTN1wSX",
    "ExecuteTime": {
     "start_time": "2024-03-23T12:57:09.024654Z"
    }
   },
   "outputs": [],
   "source": [
    "medical_tr = pd.DataFrame(X, columns=medical_num.columns,\n",
    "                          index=medical_num.index)"
   ]
  },
  {
   "cell_type": "code",
   "execution_count": null,
   "metadata": {
    "id": "QZmaWecF1wSY",
    "outputId": "38247348-4362-49e2-f413-0ea97a68b6f2",
    "ExecuteTime": {
     "start_time": "2024-03-23T12:57:09.026654800Z"
    }
   },
   "outputs": [],
   "source": [
    "medical_tr.head()"
   ]
  },
  {
   "cell_type": "markdown",
   "metadata": {
    "id": "_DfVpqIA1wSY"
   },
   "source": [
    "## Handling Text and Categorical Attributes"
   ]
  },
  {
   "cell_type": "markdown",
   "metadata": {
    "id": "EHvop5P_1wSZ"
   },
   "source": [
    "Now let's preprocess the categorical input feature, `ocean_proximity`:"
   ]
  },
  {
   "cell_type": "code",
   "execution_count": null,
   "metadata": {
    "id": "7InUY1Ls1wSZ",
    "outputId": "6600f13b-41de-489d-df18-927ae1d2289d",
    "ExecuteTime": {
     "start_time": "2024-03-23T12:57:09.028654100Z"
    }
   },
   "outputs": [],
   "source": [
    "medical_cat = medical[[\"ocean_proximity\"]]\n",
    "medical_cat.head(10)"
   ]
  },
  {
   "cell_type": "code",
   "execution_count": null,
   "metadata": {
    "id": "ywZbdaI61wSZ",
    "outputId": "2bd4d73c-8cc7-46fb-ec9f-2450ba2653db",
    "ExecuteTime": {
     "start_time": "2024-03-23T12:57:09.031654300Z"
    }
   },
   "outputs": [],
   "source": [
    "from sklearn.preprocessing import OrdinalEncoder\n",
    "\n",
    "ordinal_encoder = OrdinalEncoder()\n",
    "medical_cat_encoded = ordinal_encoder.fit_transform(medical_cat)\n",
    "medical_cat_encoded[:10]"
   ]
  },
  {
   "cell_type": "code",
   "execution_count": null,
   "metadata": {
    "id": "dfc2DEgp1wSZ",
    "outputId": "6ba7baac-f2bf-4412-a749-427423a0438c",
    "ExecuteTime": {
     "start_time": "2024-03-23T12:57:09.034656200Z"
    }
   },
   "outputs": [],
   "source": [
    "ordinal_encoder.categories_"
   ]
  },
  {
   "cell_type": "code",
   "execution_count": null,
   "metadata": {
    "id": "W9_numl21wSa",
    "outputId": "8020e0a9-1e2d-4949-994a-fcaefbb8ce04",
    "ExecuteTime": {
     "start_time": "2024-03-23T12:57:09.037656900Z"
    }
   },
   "outputs": [],
   "source": [
    "from sklearn.preprocessing import OneHotEncoder\n",
    "\n",
    "cat_encoder = OneHotEncoder()\n",
    "medical_cat_1hot = cat_encoder.fit_transform(medical_cat)\n",
    "medical_cat_1hot"
   ]
  },
  {
   "cell_type": "markdown",
   "metadata": {
    "id": "fakNBfFC1wSa"
   },
   "source": [
    "By default, the `OneHotEncoder` class returns a sparse array, but we can convert it to a dense array if needed by calling the `toarray()` method:"
   ]
  },
  {
   "cell_type": "code",
   "execution_count": null,
   "metadata": {
    "id": "L9yfwVeC1wSa",
    "outputId": "389347be-08c6-4eb6-dd39-c15aecc44719",
    "ExecuteTime": {
     "start_time": "2024-03-23T12:57:09.039654500Z"
    }
   },
   "outputs": [],
   "source": [
    "medical_cat_1hot.toarray()"
   ]
  },
  {
   "cell_type": "markdown",
   "metadata": {
    "id": "JN_-JJur1wSb"
   },
   "source": [
    "Alternatively, you can set `sparse=False` when creating the `OneHotEncoder`:"
   ]
  },
  {
   "cell_type": "code",
   "execution_count": null,
   "metadata": {
    "id": "7cdJQbNt1wSb",
    "outputId": "7f43f6b3-1486-4662-d45e-ac174a45f9b5",
    "ExecuteTime": {
     "start_time": "2024-03-23T12:57:09.043654300Z"
    }
   },
   "outputs": [],
   "source": [
    "cat_encoder = OneHotEncoder(sparse=False)\n",
    "medical_cat_1hot = cat_encoder.fit_transform(medical_cat)\n",
    "medical_cat_1hot"
   ]
  },
  {
   "cell_type": "code",
   "execution_count": null,
   "metadata": {
    "id": "E7WAA1Ng1wSb",
    "outputId": "72cd1ce6-0681-408a-d6d0-a538a6a52e96",
    "ExecuteTime": {
     "start_time": "2024-03-23T12:57:09.046656400Z"
    }
   },
   "outputs": [],
   "source": [
    "cat_encoder.categories_"
   ]
  },
  {
   "cell_type": "markdown",
   "metadata": {
    "id": "wAUROA191wSc"
   },
   "source": [
    "## Custom Transformers"
   ]
  },
  {
   "cell_type": "markdown",
   "metadata": {
    "id": "48jsFn061wSc"
   },
   "source": [
    "Let's create a custom transformer to add extra attributes:"
   ]
  },
  {
   "cell_type": "code",
   "execution_count": null,
   "metadata": {
    "id": "JYUurfaT1wSd",
    "ExecuteTime": {
     "start_time": "2024-03-23T12:57:09.048657200Z"
    }
   },
   "outputs": [],
   "source": [
    "from sklearn.base import BaseEstimator, TransformerMixin\n",
    "\n",
    "# column index\n",
    "rooms_ix, bedrooms_ix, population_ix, households_ix = 3, 4, 5, 6\n",
    "\n",
    "class CombinedAttributesAdder(BaseEstimator, TransformerMixin):\n",
    "    def __init__(self, add_bedrooms_per_room=True): # no *args or **kargs\n",
    "        self.add_bedrooms_per_room = add_bedrooms_per_room\n",
    "    def fit(self, X, y=None):\n",
    "        return self  # nothing else to do\n",
    "    def transform(self, X):\n",
    "        rooms_per_household = X[:, rooms_ix] / X[:, households_ix]\n",
    "        population_per_household = X[:, population_ix] / X[:, households_ix]\n",
    "        if self.add_bedrooms_per_room:\n",
    "            bedrooms_per_room = X[:, bedrooms_ix] / X[:, rooms_ix]\n",
    "            return np.c_[X, rooms_per_household, population_per_household,\n",
    "                         bedrooms_per_room]\n",
    "        else:\n",
    "            return np.c_[X, rooms_per_household, population_per_household]\n",
    "\n",
    "attr_adder = CombinedAttributesAdder(add_bedrooms_per_room=False)\n",
    "medical_extra_attribs = attr_adder.transform(medical.values)"
   ]
  },
  {
   "cell_type": "markdown",
   "metadata": {
    "id": "cPswZely1wSd"
   },
   "source": [
    "Note that I hard coded the indices (3, 4, 5, 6) for concision and clarity in the book, but it would be much cleaner to get them dynamically, like this:"
   ]
  },
  {
   "cell_type": "code",
   "execution_count": null,
   "metadata": {
    "id": "Jb4spyEi1wSe",
    "ExecuteTime": {
     "start_time": "2024-03-23T12:57:09.051657700Z"
    }
   },
   "outputs": [],
   "source": [
    "col_names = \"total_rooms\", \"total_bedrooms\", \"population\", \"households\"\n",
    "rooms_ix, bedrooms_ix, population_ix, households_ix = [\n",
    "    medical.columns.get_loc(c) for c in col_names] # get the column indices"
   ]
  },
  {
   "cell_type": "markdown",
   "metadata": {
    "id": "iFRSNEoE1wSf"
   },
   "source": [
    "Also, `medical_extra_attribs` is a NumPy array, we've lost the column names (unfortunately, that's a problem with Scikit-Learn). To recover a `DataFrame`, you could run this:"
   ]
  },
  {
   "cell_type": "code",
   "execution_count": null,
   "metadata": {
    "id": "xauOG9Jl1wSg",
    "outputId": "480c4627-f11f-4be7-c5f9-14c143e6800e",
    "ExecuteTime": {
     "start_time": "2024-03-23T12:57:09.054661300Z"
    }
   },
   "outputs": [],
   "source": [
    "medical_extra_attribs = pd.DataFrame(\n",
    "    medical_extra_attribs,\n",
    "    columns=list(medical.columns)+[\"rooms_per_household\", \"population_per_household\"],\n",
    "    index=medical.index)\n",
    "medical_extra_attribs.head()"
   ]
  },
  {
   "cell_type": "markdown",
   "metadata": {
    "id": "_i2I1qxp1wSg"
   },
   "source": [
    "## Transformation Pipelines"
   ]
  },
  {
   "cell_type": "markdown",
   "metadata": {
    "id": "oqjHu-hG1wSg"
   },
   "source": [
    "Now let's build a pipeline for preprocessing the numerical attributes:"
   ]
  },
  {
   "cell_type": "code",
   "execution_count": null,
   "metadata": {
    "id": "2TeDrhI_1wSg",
    "ExecuteTime": {
     "start_time": "2024-03-23T12:57:09.056657100Z"
    }
   },
   "outputs": [],
   "source": [
    "from sklearn.pipeline import Pipeline\n",
    "from sklearn.preprocessing import StandardScaler\n",
    "\n",
    "num_pipeline = Pipeline([\n",
    "        ('imputer', SimpleImputer(strategy=\"median\")),\n",
    "        ('attribs_adder', CombinedAttributesAdder()),\n",
    "        ('std_scaler', StandardScaler()),\n",
    "    ])\n",
    "\n",
    "medical_num_tr = num_pipeline.fit_transform(medical_num)"
   ]
  },
  {
   "cell_type": "code",
   "execution_count": null,
   "metadata": {
    "id": "e3e493Cj1wSg",
    "outputId": "2e1c2915-0a05-44ad-f7ab-3f27194ef443",
    "ExecuteTime": {
     "start_time": "2024-03-23T12:57:09.059654900Z"
    }
   },
   "outputs": [],
   "source": [
    "medical_num_tr"
   ]
  },
  {
   "cell_type": "code",
   "execution_count": null,
   "metadata": {
    "id": "WdAxiq7v1wSg",
    "ExecuteTime": {
     "start_time": "2024-03-23T12:57:09.062655500Z"
    }
   },
   "outputs": [],
   "source": [
    "from sklearn.compose import ColumnTransformer\n",
    "\n",
    "num_attribs = list(medical_num)\n",
    "cat_attribs = [\"ocean_proximity\"]\n",
    "\n",
    "full_pipeline = ColumnTransformer([\n",
    "        (\"num\", num_pipeline, num_attribs),\n",
    "        (\"cat\", OneHotEncoder(), cat_attribs),\n",
    "    ])\n",
    "\n",
    "medical_prepared = full_pipeline.fit_transform(medical)"
   ]
  },
  {
   "cell_type": "code",
   "execution_count": null,
   "metadata": {
    "id": "Mce9i3W11wSg",
    "outputId": "22da6cd5-3f22-44ec-a4b0-3b20d529cc18",
    "ExecuteTime": {
     "start_time": "2024-03-23T12:57:09.064655500Z"
    }
   },
   "outputs": [],
   "source": [
    "medical_prepared"
   ]
  },
  {
   "cell_type": "code",
   "execution_count": null,
   "metadata": {
    "id": "ktyeoqZ21wSh",
    "outputId": "2678a52c-4169-4364-a442-16180655a169",
    "ExecuteTime": {
     "start_time": "2024-03-23T12:57:09.066656700Z"
    }
   },
   "outputs": [],
   "source": [
    "medical_prepared.shape"
   ]
  },
  {
   "cell_type": "markdown",
   "metadata": {
    "id": "pBiZZOQb1wSh"
   },
   "source": [
    "For reference, here is the old solution based on a `DataFrameSelector` transformer (to just select a subset of the Pandas `DataFrame` columns), and a `FeatureUnion`:"
   ]
  },
  {
   "cell_type": "code",
   "execution_count": null,
   "metadata": {
    "id": "W8TvCsQE1wSi",
    "ExecuteTime": {
     "start_time": "2024-03-23T12:57:09.068654400Z"
    }
   },
   "outputs": [],
   "source": [
    "from sklearn.base import BaseEstimator, TransformerMixin\n",
    "\n",
    "# Create a class to select numerical or categorical columns\n",
    "class OldDataFrameSelector(BaseEstimator, TransformerMixin):\n",
    "    def __init__(self, attribute_names):\n",
    "        self.attribute_names = attribute_names\n",
    "    def fit(self, X, y=None):\n",
    "        return self\n",
    "    def transform(self, X):\n",
    "        return X[self.attribute_names].values"
   ]
  },
  {
   "cell_type": "markdown",
   "metadata": {
    "id": "H7J_g8hf1wSi"
   },
   "source": [
    "Now let's join all these components into a big pipeline that will preprocess both the numerical and the categorical features:"
   ]
  },
  {
   "cell_type": "code",
   "execution_count": null,
   "metadata": {
    "id": "FQrmMVXw1wSi",
    "ExecuteTime": {
     "start_time": "2024-03-23T12:57:09.069658300Z"
    }
   },
   "outputs": [],
   "source": [
    "num_attribs = list(medical_num)\n",
    "cat_attribs = [\"ocean_proximity\"]\n",
    "\n",
    "old_num_pipeline = Pipeline([\n",
    "        ('selector', OldDataFrameSelector(num_attribs)),\n",
    "        ('imputer', SimpleImputer(strategy=\"median\")),\n",
    "        ('attribs_adder', CombinedAttributesAdder()),\n",
    "        ('std_scaler', StandardScaler()),\n",
    "    ])\n",
    "\n",
    "old_cat_pipeline = Pipeline([\n",
    "        ('selector', OldDataFrameSelector(cat_attribs)),\n",
    "        ('cat_encoder', OneHotEncoder(sparse=False)),\n",
    "    ])"
   ]
  },
  {
   "cell_type": "code",
   "execution_count": null,
   "metadata": {
    "id": "GyMnS37N1wSi",
    "ExecuteTime": {
     "start_time": "2024-03-23T12:57:09.071656Z"
    }
   },
   "outputs": [],
   "source": [
    "from sklearn.pipeline import FeatureUnion\n",
    "\n",
    "old_full_pipeline = FeatureUnion(transformer_list=[\n",
    "        (\"num_pipeline\", old_num_pipeline),\n",
    "        (\"cat_pipeline\", old_cat_pipeline),\n",
    "    ])"
   ]
  },
  {
   "cell_type": "code",
   "execution_count": null,
   "metadata": {
    "id": "SSJMLeuj1wSj",
    "outputId": "6746967d-68e2-49b2-e8cb-8d2b44f48b8e",
    "ExecuteTime": {
     "start_time": "2024-03-23T12:57:09.073654600Z"
    }
   },
   "outputs": [],
   "source": [
    "old_medical_prepared = old_full_pipeline.fit_transform(medical)\n",
    "old_medical_prepared"
   ]
  },
  {
   "cell_type": "markdown",
   "metadata": {
    "id": "-rABwnBw1wSj"
   },
   "source": [
    "The result is the same as with the `ColumnTransformer`:"
   ]
  },
  {
   "cell_type": "code",
   "execution_count": null,
   "metadata": {
    "id": "6K_lNEEj1wSj",
    "outputId": "787a9864-4324-4d79-c981-813f4cace4c9",
    "ExecuteTime": {
     "start_time": "2024-03-23T12:57:09.075655800Z"
    }
   },
   "outputs": [],
   "source": [
    "np.allclose(medical_prepared, old_medical_prepared)"
   ]
  },
  {
   "cell_type": "markdown",
   "metadata": {
    "id": "qYSpU7W91wSj"
   },
   "source": [
    "# Select and Train a Model"
   ]
  },
  {
   "cell_type": "markdown",
   "metadata": {
    "id": "FfDIZ2PE1wSk"
   },
   "source": [
    "## Training and Evaluating on the Training Set"
   ]
  },
  {
   "cell_type": "code",
   "execution_count": null,
   "metadata": {
    "id": "rBE4kYgx1wSl",
    "outputId": "62b2a2f4-df38-4d74-c1ec-ccb0d3a17718",
    "ExecuteTime": {
     "start_time": "2024-03-23T12:57:09.076655500Z"
    }
   },
   "outputs": [],
   "source": [
    "from sklearn.linear_model import LinearRegression\n",
    "\n",
    "lin_reg = LinearRegression()\n",
    "lin_reg.fit(medical_prepared, medical_labels)"
   ]
  },
  {
   "cell_type": "code",
   "execution_count": null,
   "metadata": {
    "id": "vPgHde1e1wSl",
    "outputId": "de70fe2b-79b4-4f5a-9108-0bea52ac9a7f",
    "ExecuteTime": {
     "start_time": "2024-03-23T12:57:09.078656100Z"
    }
   },
   "outputs": [],
   "source": [
    "# let's try the full preprocessing pipeline on a few training instances\n",
    "some_data = medical.iloc[:5]\n",
    "some_labels = medical_labels.iloc[:5]\n",
    "some_data_prepared = full_pipeline.transform(some_data)\n",
    "\n",
    "print(\"Predictions:\", lin_reg.predict(some_data_prepared))"
   ]
  },
  {
   "cell_type": "markdown",
   "metadata": {
    "id": "rKtQo7sX1wSl"
   },
   "source": [
    "Compare against the actual values:"
   ]
  },
  {
   "cell_type": "code",
   "execution_count": null,
   "metadata": {
    "id": "XWXKk2gK1wSm",
    "outputId": "6ec4daac-8232-45d7-9997-53cf7cb6871d",
    "ExecuteTime": {
     "start_time": "2024-03-23T12:57:09.080654900Z"
    }
   },
   "outputs": [],
   "source": [
    "print(\"Labels:\", list(some_labels))"
   ]
  },
  {
   "cell_type": "code",
   "execution_count": null,
   "metadata": {
    "id": "g8_xYCcx1wSm",
    "outputId": "61c13055-e45a-4ec2-e7e1-4e94f0951b24",
    "ExecuteTime": {
     "start_time": "2024-03-23T12:57:09.082653900Z"
    }
   },
   "outputs": [],
   "source": [
    "some_data_prepared"
   ]
  },
  {
   "cell_type": "code",
   "execution_count": null,
   "metadata": {
    "id": "5wf3xg1o1wSn",
    "outputId": "6015cc19-b184-4e31-c8ef-d1454e5a6eed",
    "ExecuteTime": {
     "start_time": "2024-03-23T12:57:09.083654400Z"
    }
   },
   "outputs": [],
   "source": [
    "from sklearn.metrics import mean_squared_error\n",
    "\n",
    "medical_predictions = lin_reg.predict(medical_prepared)\n",
    "lin_mse = mean_squared_error(medical_labels, medical_predictions)\n",
    "lin_rmse = np.sqrt(lin_mse)\n",
    "lin_rmse"
   ]
  },
  {
   "cell_type": "markdown",
   "metadata": {
    "id": "CLD0KINe1wSn"
   },
   "source": [
    "**Note**: since Scikit-Learn 0.22, you can get the RMSE directly by calling the `mean_squared_error()` function with `squared=False`."
   ]
  },
  {
   "cell_type": "code",
   "execution_count": null,
   "metadata": {
    "id": "KTRVZZjQ1wSn",
    "outputId": "8b8d64ad-5a93-4c61-b029-fdac3240d3b5",
    "ExecuteTime": {
     "start_time": "2024-03-23T12:57:09.085654200Z"
    }
   },
   "outputs": [],
   "source": [
    "from sklearn.metrics import mean_absolute_error\n",
    "\n",
    "lin_mae = mean_absolute_error(medical_labels, medical_predictions)\n",
    "lin_mae"
   ]
  },
  {
   "cell_type": "code",
   "execution_count": null,
   "metadata": {
    "id": "QIj4Fquh1wSo",
    "outputId": "7b59b63c-61f3-4f1a-844f-8d0e3e4189c1",
    "ExecuteTime": {
     "start_time": "2024-03-23T12:57:09.087657400Z"
    }
   },
   "outputs": [],
   "source": [
    "from sklearn.tree import DecisionTreeRegressor\n",
    "\n",
    "tree_reg = DecisionTreeRegressor(random_state=42)\n",
    "tree_reg.fit(medical_prepared, medical_labels)"
   ]
  },
  {
   "cell_type": "code",
   "execution_count": null,
   "metadata": {
    "id": "EFNE1XKV1wSo",
    "outputId": "c821c57d-2b33-42d5-bf7d-e325d21bf6c3",
    "ExecuteTime": {
     "start_time": "2024-03-23T12:57:09.088654700Z"
    }
   },
   "outputs": [],
   "source": [
    "medical_predictions = tree_reg.predict(medical_prepared)\n",
    "tree_mse = mean_squared_error(medical_labels, medical_predictions)\n",
    "tree_rmse = np.sqrt(tree_mse)\n",
    "tree_rmse"
   ]
  },
  {
   "cell_type": "markdown",
   "metadata": {
    "id": "nHESYwpx1wSo"
   },
   "source": [
    "## Better Evaluation Using Cross-Validation"
   ]
  },
  {
   "cell_type": "code",
   "execution_count": null,
   "metadata": {
    "id": "RWGKQuA71wSo",
    "ExecuteTime": {
     "start_time": "2024-03-23T12:57:09.089654900Z"
    }
   },
   "outputs": [],
   "source": [
    "from sklearn.model_selection import cross_val_score\n",
    "\n",
    "scores = cross_val_score(tree_reg, medical_prepared, medical_labels,\n",
    "                         scoring=\"neg_mean_squared_error\", cv=10)\n",
    "tree_rmse_scores = np.sqrt(-scores)"
   ]
  },
  {
   "cell_type": "code",
   "execution_count": null,
   "metadata": {
    "id": "Ox9MeeBK1wSo",
    "outputId": "206664e8-e0ff-42b6-faff-88f7ad0ed2b6",
    "ExecuteTime": {
     "start_time": "2024-03-23T12:57:09.091653500Z"
    }
   },
   "outputs": [],
   "source": [
    "def display_scores(scores):\n",
    "    print(\"Scores:\", scores)\n",
    "    print(\"Mean:\", scores.mean())\n",
    "    print(\"Standard deviation:\", scores.std())\n",
    "\n",
    "display_scores(tree_rmse_scores)"
   ]
  },
  {
   "cell_type": "code",
   "execution_count": null,
   "metadata": {
    "id": "AAQ8EPwr1wSo",
    "outputId": "329034b6-23fe-4b6c-9d7b-57bd9fc224a6",
    "ExecuteTime": {
     "start_time": "2024-03-23T12:57:09.092655300Z"
    }
   },
   "outputs": [],
   "source": [
    "lin_scores = cross_val_score(lin_reg, medical_prepared, medical_labels,\n",
    "                             scoring=\"neg_mean_squared_error\", cv=10)\n",
    "lin_rmse_scores = np.sqrt(-lin_scores)\n",
    "display_scores(lin_rmse_scores)"
   ]
  },
  {
   "cell_type": "markdown",
   "metadata": {
    "id": "WOl4uWrh1wSp"
   },
   "source": [
    "**Note**: we specify `n_estimators=100` to be future-proof since the default value is going to change to 100 in Scikit-Learn 0.22 (for simplicity, this is not shown in the book)."
   ]
  },
  {
   "cell_type": "code",
   "execution_count": null,
   "metadata": {
    "id": "0kkiEb-D1wSp",
    "outputId": "d71503cb-c291-471b-c980-e693d6fa427a",
    "ExecuteTime": {
     "start_time": "2024-03-23T12:57:09.094653Z"
    }
   },
   "outputs": [],
   "source": [
    "from sklearn.ensemble import RandomForestRegressor\n",
    "\n",
    "forest_reg = RandomForestRegressor(n_estimators=100, random_state=42)\n",
    "forest_reg.fit(medical_prepared, medical_labels)"
   ]
  },
  {
   "cell_type": "code",
   "execution_count": null,
   "metadata": {
    "id": "M4JwEkdO1wSp",
    "outputId": "df8a100c-0d4a-4db8-a137-4308fbba79c2",
    "ExecuteTime": {
     "start_time": "2024-03-23T12:57:09.096660700Z"
    }
   },
   "outputs": [],
   "source": [
    "medical_predictions = forest_reg.predict(medical_prepared)\n",
    "forest_mse = mean_squared_error(medical_labels, medical_predictions)\n",
    "forest_rmse = np.sqrt(forest_mse)\n",
    "forest_rmse"
   ]
  },
  {
   "cell_type": "code",
   "execution_count": null,
   "metadata": {
    "id": "OQsI1hWT1wSp",
    "outputId": "27603274-8370-42e1-edb7-f463a6353830",
    "ExecuteTime": {
     "start_time": "2024-03-23T12:57:09.098657500Z"
    }
   },
   "outputs": [],
   "source": [
    "from sklearn.model_selection import cross_val_score\n",
    "\n",
    "forest_scores = cross_val_score(forest_reg, medical_prepared, medical_labels,\n",
    "                                scoring=\"neg_mean_squared_error\", cv=10)\n",
    "forest_rmse_scores = np.sqrt(-forest_scores)\n",
    "display_scores(forest_rmse_scores)"
   ]
  },
  {
   "cell_type": "code",
   "execution_count": null,
   "metadata": {
    "id": "7xNK9x7P1wSq",
    "outputId": "4b95b3cb-6329-4f25-f54e-c5671a5cb285",
    "ExecuteTime": {
     "start_time": "2024-03-23T12:57:09.100654600Z"
    }
   },
   "outputs": [],
   "source": [
    "scores = cross_val_score(lin_reg, medical_prepared, medical_labels, scoring=\"neg_mean_squared_error\", cv=10)\n",
    "pd.Series(np.sqrt(-scores)).describe()"
   ]
  },
  {
   "cell_type": "code",
   "execution_count": null,
   "metadata": {
    "id": "QbZd-8-m1wSq",
    "outputId": "11b501a5-05a9-49f1-eeb3-e341d2d8c914",
    "ExecuteTime": {
     "start_time": "2024-03-23T12:57:09.101655800Z"
    }
   },
   "outputs": [],
   "source": [
    "from sklearn.svm import SVR\n",
    "\n",
    "svm_reg = SVR(kernel=\"linear\")\n",
    "svm_reg.fit(medical_prepared, medical_labels)\n",
    "medical_predictions = svm_reg.predict(medical_prepared)\n",
    "svm_mse = mean_squared_error(medical_labels, medical_predictions)\n",
    "svm_rmse = np.sqrt(svm_mse)\n",
    "svm_rmse"
   ]
  },
  {
   "cell_type": "markdown",
   "metadata": {
    "id": "Oz39v4xA1wSq"
   },
   "source": [
    "# Fine-Tune Your Model"
   ]
  },
  {
   "cell_type": "markdown",
   "metadata": {
    "id": "L0UoRgNd1wSr"
   },
   "source": [
    "## Grid Search"
   ]
  },
  {
   "cell_type": "code",
   "execution_count": null,
   "metadata": {
    "id": "usy43hbt1wSr",
    "outputId": "2f76d6a3-f7be-4701-e1b9-2b731ff3a69f",
    "ExecuteTime": {
     "start_time": "2024-03-23T12:57:09.103659600Z"
    }
   },
   "outputs": [],
   "source": [
    "from sklearn.model_selection import GridSearchCV\n",
    "\n",
    "param_grid = [\n",
    "    # try 12 (3×4) combinations of hyperparameters\n",
    "    {'n_estimators': [3, 10, 30], 'max_features': [2, 4, 6, 8]},\n",
    "    # then try 6 (2×3) combinations with bootstrap set as False\n",
    "    {'bootstrap': [False], 'n_estimators': [3, 10], 'max_features': [2, 3, 4]},\n",
    "  ]\n",
    "\n",
    "forest_reg = RandomForestRegressor(random_state=42)\n",
    "# train across 5 folds, that's a total of (12+6)*5=90 rounds of training\n",
    "grid_search = GridSearchCV(forest_reg, param_grid, cv=5,\n",
    "                           scoring='neg_mean_squared_error',\n",
    "                           return_train_score=True)\n",
    "grid_search.fit(medical_prepared, medical_labels)"
   ]
  },
  {
   "cell_type": "markdown",
   "metadata": {
    "id": "D3PWIkVp1wSs"
   },
   "source": [
    "The best hyperparameter combination found:"
   ]
  },
  {
   "cell_type": "code",
   "execution_count": null,
   "metadata": {
    "id": "4wlgB0ev1wSs",
    "outputId": "8701d734-fd51-4b60-c762-34960a86c046",
    "ExecuteTime": {
     "start_time": "2024-03-23T12:57:09.105655500Z"
    }
   },
   "outputs": [],
   "source": [
    "grid_search.best_params_"
   ]
  },
  {
   "cell_type": "code",
   "execution_count": null,
   "metadata": {
    "id": "lcphQE5U1wSt",
    "outputId": "f7927559-fc01-4f03-bef4-2f9196ec4857",
    "ExecuteTime": {
     "start_time": "2024-03-23T12:57:09.106656800Z"
    }
   },
   "outputs": [],
   "source": [
    "grid_search.best_estimator_"
   ]
  },
  {
   "cell_type": "markdown",
   "metadata": {
    "id": "DViSqVgx1wSu"
   },
   "source": [
    "Let's look at the score of each hyperparameter combination tested during the grid search:"
   ]
  },
  {
   "cell_type": "code",
   "execution_count": null,
   "metadata": {
    "id": "wvbFWB1y1wSu",
    "outputId": "31c34a78-c93f-41b4-f7fc-a0bf10b0bc37",
    "ExecuteTime": {
     "start_time": "2024-03-23T12:57:09.108655100Z"
    }
   },
   "outputs": [],
   "source": [
    "cvres = grid_search.cv_results_\n",
    "for mean_score, params in zip(cvres[\"mean_test_score\"], cvres[\"params\"]):\n",
    "    print(np.sqrt(-mean_score), params)"
   ]
  },
  {
   "cell_type": "code",
   "execution_count": null,
   "metadata": {
    "id": "CVqlu0-71wSu",
    "outputId": "954caad2-314c-4541-9a70-d14fc1e2e536",
    "ExecuteTime": {
     "start_time": "2024-03-23T12:57:09.110656800Z"
    }
   },
   "outputs": [],
   "source": [
    "pd.DataFrame(grid_search.cv_results_)"
   ]
  },
  {
   "cell_type": "markdown",
   "metadata": {
    "id": "Ux9LrGVB1wSu"
   },
   "source": [
    "## Randomized Search"
   ]
  },
  {
   "cell_type": "code",
   "execution_count": null,
   "metadata": {
    "id": "7lF00Ng_1wSv",
    "outputId": "59909249-779f-42e3-b0d3-d1a2e6a90f81",
    "ExecuteTime": {
     "start_time": "2024-03-23T12:57:09.112660900Z"
    }
   },
   "outputs": [],
   "source": [
    "from sklearn.model_selection import RandomizedSearchCV\n",
    "from scipy.stats import randint\n",
    "\n",
    "param_distribs = {\n",
    "        'n_estimators': randint(low=1, high=200),\n",
    "        'max_features': randint(low=1, high=8),\n",
    "    }\n",
    "\n",
    "forest_reg = RandomForestRegressor(random_state=42)\n",
    "rnd_search = RandomizedSearchCV(forest_reg, param_distributions=param_distribs,\n",
    "                                n_iter=10, cv=5, scoring='neg_mean_squared_error', random_state=42)\n",
    "rnd_search.fit(medical_prepared, medical_labels)"
   ]
  },
  {
   "cell_type": "code",
   "execution_count": null,
   "metadata": {
    "id": "R-YkNd8Y1wSv",
    "outputId": "14634971-0b14-45e5-a4fa-3fa1eb301278",
    "ExecuteTime": {
     "start_time": "2024-03-23T12:57:09.114664200Z"
    }
   },
   "outputs": [],
   "source": [
    "cvres = rnd_search.cv_results_\n",
    "for mean_score, params in zip(cvres[\"mean_test_score\"], cvres[\"params\"]):\n",
    "    print(np.sqrt(-mean_score), params)"
   ]
  },
  {
   "cell_type": "markdown",
   "metadata": {
    "id": "z87N2mKy1wSv"
   },
   "source": [
    "## Analyze the Best Models and Their Errors"
   ]
  },
  {
   "cell_type": "code",
   "execution_count": null,
   "metadata": {
    "id": "xjxZkqiN1wSw",
    "outputId": "838d10d4-51e1-4739-b8aa-05aae7835f17",
    "ExecuteTime": {
     "start_time": "2024-03-23T12:57:09.116657800Z"
    }
   },
   "outputs": [],
   "source": [
    "feature_importances = grid_search.best_estimator_.feature_importances_\n",
    "feature_importances"
   ]
  },
  {
   "cell_type": "code",
   "execution_count": null,
   "metadata": {
    "id": "fZOqzZzl1wSw",
    "outputId": "757956e3-7981-4e38-bac5-6917d81e6505",
    "ExecuteTime": {
     "start_time": "2024-03-23T12:57:09.118653600Z"
    }
   },
   "outputs": [],
   "source": [
    "extra_attribs = [\"rooms_per_hhold\", \"pop_per_hhold\", \"bedrooms_per_room\"]\n",
    "#cat_encoder = cat_pipeline.named_steps[\"cat_encoder\"] # old solution\n",
    "cat_encoder = full_pipeline.named_transformers_[\"cat\"]\n",
    "cat_one_hot_attribs = list(cat_encoder.categories_[0])\n",
    "attributes = num_attribs + extra_attribs + cat_one_hot_attribs\n",
    "sorted(zip(feature_importances, attributes), reverse=True)"
   ]
  },
  {
   "cell_type": "markdown",
   "metadata": {
    "id": "HVhIPgFB1wSw"
   },
   "source": [
    "## Evaluate Your System on the Test Set"
   ]
  },
  {
   "cell_type": "code",
   "execution_count": 24,
   "metadata": {
    "id": "osfzVs7b1wSw",
    "ExecuteTime": {
     "start_time": "2024-03-23T12:57:09.119653900Z"
    }
   },
   "outputs": [
    {
     "ename": "NameError",
     "evalue": "name 'grid_search' is not defined",
     "output_type": "error",
     "traceback": [
      "\u001B[1;31m---------------------------------------------------------------------------\u001B[0m",
      "\u001B[1;31mNameError\u001B[0m                                 Traceback (most recent call last)",
      "Cell \u001B[1;32mIn[24], line 1\u001B[0m\n\u001B[1;32m----> 1\u001B[0m final_model \u001B[38;5;241m=\u001B[39m \u001B[43mgrid_search\u001B[49m\u001B[38;5;241m.\u001B[39mbest_estimator_\n\u001B[0;32m      3\u001B[0m X_test \u001B[38;5;241m=\u001B[39m strat_test_set\u001B[38;5;241m.\u001B[39mdrop(\u001B[38;5;124m\"\u001B[39m\u001B[38;5;124mmedian_house_value\u001B[39m\u001B[38;5;124m\"\u001B[39m, axis\u001B[38;5;241m=\u001B[39m\u001B[38;5;241m1\u001B[39m)\n\u001B[0;32m      4\u001B[0m y_test \u001B[38;5;241m=\u001B[39m strat_test_set[\u001B[38;5;124m\"\u001B[39m\u001B[38;5;124mmedian_house_value\u001B[39m\u001B[38;5;124m\"\u001B[39m]\u001B[38;5;241m.\u001B[39mcopy()\n",
      "\u001B[1;31mNameError\u001B[0m: name 'grid_search' is not defined"
     ]
    }
   ],
   "source": [
    "final_model = grid_search.best_estimator_\n",
    "\n",
    "X_test = strat_test_set.drop(\"median_house_value\", axis=1)\n",
    "y_test = strat_test_set[\"median_house_value\"].copy()\n",
    "\n",
    "X_test_prepared = full_pipeline.transform(X_test)\n",
    "final_predictions = final_model.predict(X_test_prepared)\n",
    "\n",
    "final_mse = mean_squared_error(y_test, final_predictions)\n",
    "final_rmse = np.sqrt(final_mse)"
   ]
  },
  {
   "cell_type": "code",
   "execution_count": null,
   "metadata": {
    "id": "7ZM5_5LG1wSx",
    "outputId": "9f8d7cf1-57a6-421d-aac6-bea3f93ee6f8",
    "ExecuteTime": {
     "start_time": "2024-03-23T12:57:09.123653900Z"
    }
   },
   "outputs": [],
   "source": [
    "final_rmse"
   ]
  },
  {
   "cell_type": "markdown",
   "metadata": {
    "id": "GSwtpYf71wSx"
   },
   "source": [
    "We can compute a 95% confidence interval for the test RMSE:"
   ]
  },
  {
   "cell_type": "code",
   "execution_count": null,
   "metadata": {
    "id": "wfNBx5Rt1wSx",
    "outputId": "093a7375-d80d-4202-aa90-ab29adcd126d",
    "ExecuteTime": {
     "start_time": "2024-03-23T12:57:09.125658700Z"
    }
   },
   "outputs": [],
   "source": [
    "from scipy import stats\n",
    "\n",
    "confidence = 0.95\n",
    "squared_errors = (final_predictions - y_test) ** 2\n",
    "np.sqrt(stats.t.interval(confidence, len(squared_errors) - 1,\n",
    "                         loc=squared_errors.mean(),\n",
    "                         scale=stats.sem(squared_errors)))"
   ]
  },
  {
   "cell_type": "markdown",
   "metadata": {
    "id": "fsXUbNiL1wSx"
   },
   "source": [
    "We could compute the interval manually like this:"
   ]
  },
  {
   "cell_type": "code",
   "execution_count": null,
   "metadata": {
    "id": "_3yEIkmy1wSx",
    "outputId": "9f3e197a-7597-470c-8600-a37c26366f13",
    "ExecuteTime": {
     "start_time": "2024-03-23T12:57:09.127655200Z"
    }
   },
   "outputs": [],
   "source": [
    "m = len(squared_errors)\n",
    "mean = squared_errors.mean()\n",
    "tscore = stats.t.ppf((1 + confidence) / 2, df=m - 1)\n",
    "tmargin = tscore * squared_errors.std(ddof=1) / np.sqrt(m)\n",
    "np.sqrt(mean - tmargin), np.sqrt(mean + tmargin)"
   ]
  },
  {
   "cell_type": "markdown",
   "metadata": {
    "id": "mDqK0AiL1wSx"
   },
   "source": [
    "Alternatively, we could use a z-scores rather than t-scores:"
   ]
  },
  {
   "cell_type": "code",
   "execution_count": null,
   "metadata": {
    "id": "uzE7aRk51wSy",
    "outputId": "4808b67a-7aba-42c7-fe49-47a18da4c97e",
    "ExecuteTime": {
     "start_time": "2024-03-23T12:57:09.130656200Z"
    }
   },
   "outputs": [],
   "source": [
    "zscore = stats.norm.ppf((1 + confidence) / 2)\n",
    "zmargin = zscore * squared_errors.std(ddof=1) / np.sqrt(m)\n",
    "np.sqrt(mean - zmargin), np.sqrt(mean + zmargin)"
   ]
  },
  {
   "cell_type": "markdown",
   "metadata": {
    "id": "Dvz27LA51wSy"
   },
   "source": [
    "# Extra material"
   ]
  },
  {
   "cell_type": "markdown",
   "metadata": {
    "id": "neFx0oPS1wSy"
   },
   "source": [
    "## A full pipeline with both preparation and prediction"
   ]
  },
  {
   "cell_type": "code",
   "execution_count": null,
   "metadata": {
    "id": "E4FnBEYI1wSz",
    "outputId": "6a5785b9-5c0a-47db-d3e6-e3aefc8ed3ed",
    "ExecuteTime": {
     "start_time": "2024-03-23T12:57:09.132656Z"
    }
   },
   "outputs": [],
   "source": [
    "full_pipeline_with_predictor = Pipeline([\n",
    "        (\"preparation\", full_pipeline),\n",
    "        (\"linear\", LinearRegression())\n",
    "    ])\n",
    "\n",
    "full_pipeline_with_predictor.fit(medical, medical_labels)\n",
    "full_pipeline_with_predictor.predict(some_data)"
   ]
  },
  {
   "cell_type": "markdown",
   "metadata": {
    "id": "8f6bFg4m1wSz"
   },
   "source": [
    "## Model persistence using joblib"
   ]
  },
  {
   "cell_type": "code",
   "execution_count": null,
   "metadata": {
    "id": "02Na7jOt1wSz",
    "ExecuteTime": {
     "start_time": "2024-03-23T12:57:09.133656500Z"
    }
   },
   "outputs": [],
   "source": [
    "my_model = full_pipeline_with_predictor"
   ]
  },
  {
   "cell_type": "code",
   "execution_count": null,
   "metadata": {
    "id": "99GBa9Xn1wSz",
    "ExecuteTime": {
     "start_time": "2024-03-23T12:57:09.135656800Z"
    }
   },
   "outputs": [],
   "source": [
    "import joblib\n",
    "joblib.dump(my_model, \"my_model.pkl\") # DIFF\n",
    "#...\n",
    "my_model_loaded = joblib.load(\"my_model.pkl\") # DIFF"
   ]
  },
  {
   "cell_type": "markdown",
   "metadata": {
    "id": "Ocu8zurD1wS0"
   },
   "source": [
    "## Example SciPy distributions for `RandomizedSearchCV`"
   ]
  },
  {
   "cell_type": "code",
   "execution_count": 25,
   "metadata": {
    "id": "gGDz7qNp1wS0",
    "outputId": "1af5e141-9ea3-4ecc-e63e-66c92c7f756e",
    "ExecuteTime": {
     "end_time": "2024-03-23T12:57:16.588296600Z",
     "start_time": "2024-03-23T12:57:09.137657400Z"
    }
   },
   "outputs": [
    {
     "data": {
      "text/plain": "<Figure size 640x480 with 1 Axes>",
      "image/png": "[encoded data removed]"
     },
     "metadata": {},
     "output_type": "display_data"
    },
    {
     "data": {
      "text/plain": "<Figure size 640x480 with 1 Axes>",
      "image/png": "[encoded data removed]"
     },
     "metadata": {},
     "output_type": "display_data"
    }
   ],
   "source": [
    "from scipy.stats import geom, expon\n",
    "geom_distrib=geom(0.5).rvs(10000, random_state=42)\n",
    "expon_distrib=expon(scale=1).rvs(10000, random_state=42)\n",
    "plt.hist(geom_distrib, bins=50)\n",
    "plt.show()\n",
    "plt.hist(expon_distrib, bins=50)\n",
    "plt.show()"
   ]
  },
  {
   "cell_type": "markdown",
   "metadata": {
    "id": "FfgcHsCY1wS0"
   },
   "source": [
    "# Exercise solutions"
   ]
  },
  {
   "cell_type": "markdown",
   "metadata": {
    "id": "VV9VMXjG1wS0"
   },
   "source": [
    "## 1."
   ]
  },
  {
   "cell_type": "markdown",
   "metadata": {
    "id": "2V9V5kA81wS1"
   },
   "source": [
    "Question: Try a Support Vector Machine regressor (`sklearn.svm.SVR`), with various hyperparameters such as `kernel=\"linear\"` (with various values for the `C` hyperparameter) or `kernel=\"rbf\"` (with various values for the `C` and `gamma` hyperparameters). Don't worry about what these hyperparameters mean for now. How does the best `SVR` predictor perform?"
   ]
  },
  {
   "cell_type": "markdown",
   "metadata": {
    "id": "LXsUDUZ71wS2"
   },
   "source": [
    "**Warning**: the following cell may take close to 30 minutes to run, or more depending on your hardware."
   ]
  },
  {
   "cell_type": "code",
   "execution_count": 26,
   "metadata": {
    "id": "Lj6kUr0j1wS2",
    "outputId": "6fbad4f2-ec90-41f9-8dff-7b32923665c1",
    "ExecuteTime": {
     "start_time": "2024-03-23T12:57:09.367812100Z"
    }
   },
   "outputs": [
    {
     "ename": "NameError",
     "evalue": "name 'SVR' is not defined",
     "output_type": "error",
     "traceback": [
      "\u001B[1;31m---------------------------------------------------------------------------\u001B[0m",
      "\u001B[1;31mNameError\u001B[0m                                 Traceback (most recent call last)",
      "Cell \u001B[1;32mIn[26], line 9\u001B[0m\n\u001B[0;32m      1\u001B[0m \u001B[38;5;28;01mfrom\u001B[39;00m \u001B[38;5;21;01msklearn\u001B[39;00m\u001B[38;5;21;01m.\u001B[39;00m\u001B[38;5;21;01mmodel_selection\u001B[39;00m \u001B[38;5;28;01mimport\u001B[39;00m GridSearchCV\n\u001B[0;32m      3\u001B[0m param_grid \u001B[38;5;241m=\u001B[39m [\n\u001B[0;32m      4\u001B[0m         {\u001B[38;5;124m'\u001B[39m\u001B[38;5;124mkernel\u001B[39m\u001B[38;5;124m'\u001B[39m: [\u001B[38;5;124m'\u001B[39m\u001B[38;5;124mlinear\u001B[39m\u001B[38;5;124m'\u001B[39m], \u001B[38;5;124m'\u001B[39m\u001B[38;5;124mC\u001B[39m\u001B[38;5;124m'\u001B[39m: [\u001B[38;5;241m10.\u001B[39m, \u001B[38;5;241m30.\u001B[39m, \u001B[38;5;241m100.\u001B[39m, \u001B[38;5;241m300.\u001B[39m, \u001B[38;5;241m1000.\u001B[39m, \u001B[38;5;241m3000.\u001B[39m, \u001B[38;5;241m10000.\u001B[39m, \u001B[38;5;241m30000.0\u001B[39m]},\n\u001B[0;32m      5\u001B[0m         {\u001B[38;5;124m'\u001B[39m\u001B[38;5;124mkernel\u001B[39m\u001B[38;5;124m'\u001B[39m: [\u001B[38;5;124m'\u001B[39m\u001B[38;5;124mrbf\u001B[39m\u001B[38;5;124m'\u001B[39m], \u001B[38;5;124m'\u001B[39m\u001B[38;5;124mC\u001B[39m\u001B[38;5;124m'\u001B[39m: [\u001B[38;5;241m1.0\u001B[39m, \u001B[38;5;241m3.0\u001B[39m, \u001B[38;5;241m10.\u001B[39m, \u001B[38;5;241m30.\u001B[39m, \u001B[38;5;241m100.\u001B[39m, \u001B[38;5;241m300.\u001B[39m, \u001B[38;5;241m1000.0\u001B[39m],\n\u001B[0;32m      6\u001B[0m          \u001B[38;5;124m'\u001B[39m\u001B[38;5;124mgamma\u001B[39m\u001B[38;5;124m'\u001B[39m: [\u001B[38;5;241m0.01\u001B[39m, \u001B[38;5;241m0.03\u001B[39m, \u001B[38;5;241m0.1\u001B[39m, \u001B[38;5;241m0.3\u001B[39m, \u001B[38;5;241m1.0\u001B[39m, \u001B[38;5;241m3.0\u001B[39m]},\n\u001B[0;32m      7\u001B[0m     ]\n\u001B[1;32m----> 9\u001B[0m svm_reg \u001B[38;5;241m=\u001B[39m \u001B[43mSVR\u001B[49m()\n\u001B[0;32m     10\u001B[0m grid_search \u001B[38;5;241m=\u001B[39m GridSearchCV(svm_reg, param_grid, cv\u001B[38;5;241m=\u001B[39m\u001B[38;5;241m5\u001B[39m, scoring\u001B[38;5;241m=\u001B[39m\u001B[38;5;124m'\u001B[39m\u001B[38;5;124mneg_mean_squared_error\u001B[39m\u001B[38;5;124m'\u001B[39m, verbose\u001B[38;5;241m=\u001B[39m\u001B[38;5;241m2\u001B[39m)\n\u001B[0;32m     11\u001B[0m grid_search\u001B[38;5;241m.\u001B[39mfit(medical_prepared, medical_labels)\n",
      "\u001B[1;31mNameError\u001B[0m: name 'SVR' is not defined"
     ]
    }
   ],
   "source": [
    "from sklearn.model_selection import GridSearchCV\n",
    "\n",
    "param_grid = [\n",
    "        {'kernel': ['linear'], 'C': [10., 30., 100., 300., 1000., 3000., 10000., 30000.0]},\n",
    "        {'kernel': ['rbf'], 'C': [1.0, 3.0, 10., 30., 100., 300., 1000.0],\n",
    "         'gamma': [0.01, 0.03, 0.1, 0.3, 1.0, 3.0]},\n",
    "    ]\n",
    "\n",
    "svm_reg = SVR()\n",
    "grid_search = GridSearchCV(svm_reg, param_grid, cv=5, scoring='neg_mean_squared_error', verbose=2)\n",
    "grid_search.fit(medical_prepared, medical_labels)"
   ]
  },
  {
   "cell_type": "markdown",
   "metadata": {
    "id": "6Wk3WvIO1wS2"
   },
   "source": [
    "The best model achieves the following score (evaluated using 5-fold cross validation):"
   ]
  },
  {
   "cell_type": "code",
   "execution_count": null,
   "metadata": {
    "id": "38AKUrAB1wS3",
    "outputId": "2c8537b3-7e98-4c88-8265-9b60a5044bea",
    "ExecuteTime": {
     "start_time": "2024-03-23T12:57:09.482148400Z"
    }
   },
   "outputs": [],
   "source": [
    "negative_mse = grid_search.best_score_\n",
    "rmse = np.sqrt(-negative_mse)\n",
    "rmse"
   ]
  },
  {
   "cell_type": "markdown",
   "metadata": {
    "id": "PWUZao8I1wS3"
   },
   "source": [
    "That's much worse than the `RandomForestRegressor`. Let's check the best hyperparameters found:"
   ]
  },
  {
   "cell_type": "code",
   "execution_count": null,
   "metadata": {
    "id": "1uj63dpD1wS4",
    "outputId": "17730e49-34b3-4c00-eba6-71d4572517dc",
    "ExecuteTime": {
     "start_time": "2024-03-23T12:57:09.484157600Z"
    }
   },
   "outputs": [],
   "source": [
    "grid_search.best_params_"
   ]
  },
  {
   "cell_type": "markdown",
   "metadata": {
    "id": "sWyfaYqG1wS4"
   },
   "source": [
    "The linear kernel seems better than the RBF kernel. Notice that the value of `C` is the maximum tested value. When this happens you definitely want to launch the grid search again with higher values for `C` (removing the smallest values), because it is likely that higher values of `C` will be better."
   ]
  },
  {
   "cell_type": "markdown",
   "metadata": {
    "id": "zSLMvY4T1wS4"
   },
   "source": [
    "## 2."
   ]
  },
  {
   "cell_type": "markdown",
   "metadata": {
    "id": "YruAwmQ71wS5"
   },
   "source": [
    "Question: Try replacing `GridSearchCV` with `RandomizedSearchCV`."
   ]
  },
  {
   "cell_type": "markdown",
   "metadata": {
    "id": "1wDhh0yC1wS5"
   },
   "source": [
    "**Warning**: the following cell may take close to 45 minutes to run, or more depending on your hardware."
   ]
  },
  {
   "cell_type": "code",
   "execution_count": null,
   "metadata": {
    "id": "zDZ_eVxu1wS5",
    "outputId": "98cbd621-b5aa-4760-99af-9ac0e69bd033",
    "ExecuteTime": {
     "start_time": "2024-03-23T12:57:09.487147700Z"
    }
   },
   "outputs": [],
   "source": [
    "from sklearn.model_selection import RandomizedSearchCV\n",
    "from scipy.stats import expon, reciprocal\n",
    "\n",
    "# see https://docs.scipy.org/doc/scipy/reference/stats.html\n",
    "# for `expon()` and `reciprocal()` documentation and more probability distribution functions.\n",
    "\n",
    "# Note: gamma is ignored when kernel is \"linear\"\n",
    "param_distribs = {\n",
    "        'kernel': ['linear', 'rbf'],\n",
    "        'C': reciprocal(20, 200000),\n",
    "        'gamma': expon(scale=1.0),\n",
    "    }\n",
    "\n",
    "svm_reg = SVR()\n",
    "rnd_search = RandomizedSearchCV(svm_reg, param_distributions=param_distribs,\n",
    "                                n_iter=50, cv=5, scoring='neg_mean_squared_error',\n",
    "                                verbose=2, random_state=42)\n",
    "rnd_search.fit(medical_prepared, medical_labels)"
   ]
  },
  {
   "cell_type": "markdown",
   "metadata": {
    "id": "m_tSKCYr1wS5"
   },
   "source": [
    "The best model achieves the following score (evaluated using 5-fold cross validation):"
   ]
  },
  {
   "cell_type": "code",
   "execution_count": null,
   "metadata": {
    "id": "VeAwEfkk1wS5",
    "outputId": "c5eece40-a20c-4473-aabf-a02ed4916a5b",
    "ExecuteTime": {
     "start_time": "2024-03-23T12:57:09.490154600Z"
    }
   },
   "outputs": [],
   "source": [
    "negative_mse = rnd_search.best_score_\n",
    "rmse = np.sqrt(-negative_mse)\n",
    "rmse"
   ]
  },
  {
   "cell_type": "markdown",
   "metadata": {
    "id": "wEFeZYw51wS5"
   },
   "source": [
    "Now this is much closer to the performance of the `RandomForestRegressor` (but not quite there yet). Let's check the best hyperparameters found:"
   ]
  },
  {
   "cell_type": "code",
   "execution_count": null,
   "metadata": {
    "id": "_PjUwgh91wS5",
    "outputId": "2228a39a-b9dc-4356-82dd-05e4c9459875",
    "ExecuteTime": {
     "start_time": "2024-03-23T12:57:09.494148700Z"
    }
   },
   "outputs": [],
   "source": [
    "rnd_search.best_params_"
   ]
  },
  {
   "cell_type": "markdown",
   "metadata": {
    "id": "aVzySSup1wS6"
   },
   "source": [
    "This time the search found a good set of hyperparameters for the RBF kernel. Randomized search tends to find better hyperparameters than grid search in the same amount of time."
   ]
  },
  {
   "cell_type": "markdown",
   "metadata": {
    "id": "OZo_GEwc1wS6"
   },
   "source": [
    "Let's look at the exponential distribution we used, with `scale=1.0`. Note that some samples are much larger or smaller than 1.0, but when you look at the log of the distribution, you can see that most values are actually concentrated roughly in the range of exp(-2) to exp(+2), which is about 0.1 to 7.4."
   ]
  },
  {
   "cell_type": "code",
   "execution_count": null,
   "metadata": {
    "id": "xTQCq6O01wS6",
    "outputId": "708dd94d-eac5-4082-bbbe-e0c60d212c87",
    "ExecuteTime": {
     "start_time": "2024-03-23T12:57:09.497150Z"
    }
   },
   "outputs": [],
   "source": [
    "expon_distrib = expon(scale=1.)\n",
    "samples = expon_distrib.rvs(10000, random_state=42)\n",
    "plt.figure(figsize=(10, 4))\n",
    "plt.subplot(121)\n",
    "plt.title(\"Exponential distribution (scale=1.0)\")\n",
    "plt.hist(samples, bins=50)\n",
    "plt.subplot(122)\n",
    "plt.title(\"Log of this distribution\")\n",
    "plt.hist(np.log(samples), bins=50)\n",
    "plt.show()"
   ]
  },
  {
   "cell_type": "markdown",
   "metadata": {
    "id": "xUA4gel01wS7"
   },
   "source": [
    "The distribution we used for `C` looks quite different: the scale of the samples is picked from a uniform distribution within a given range, which is why the right graph, which represents the log of the samples, looks roughly constant. This distribution is useful when you don't have a clue of what the target scale is:"
   ]
  },
  {
   "cell_type": "code",
   "execution_count": null,
   "metadata": {
    "id": "rbOPPr2s1wS7",
    "outputId": "fd937a9f-c835-4fd0-aa5a-e9b34af12792",
    "ExecuteTime": {
     "start_time": "2024-03-23T12:57:09.500658300Z"
    }
   },
   "outputs": [],
   "source": [
    "reciprocal_distrib = reciprocal(20, 200000)\n",
    "samples = reciprocal_distrib.rvs(10000, random_state=42)\n",
    "plt.figure(figsize=(10, 4))\n",
    "plt.subplot(121)\n",
    "plt.title(\"Reciprocal distribution (scale=1.0)\")\n",
    "plt.hist(samples, bins=50)\n",
    "plt.subplot(122)\n",
    "plt.title(\"Log of this distribution\")\n",
    "plt.hist(np.log(samples), bins=50)\n",
    "plt.show()"
   ]
  },
  {
   "cell_type": "markdown",
   "metadata": {
    "id": "wpKOfhNy1wS7"
   },
   "source": [
    "The reciprocal distribution is useful when you have no idea what the scale of the hyperparameter should be (indeed, as you can see on the figure on the right, all scales are equally likely, within the given range), whereas the exponential distribution is best when you know (more or less) what the scale of the hyperparameter should be."
   ]
  },
  {
   "cell_type": "markdown",
   "metadata": {
    "id": "7sk1jkp41wS8"
   },
   "source": [
    "## 3."
   ]
  },
  {
   "cell_type": "markdown",
   "metadata": {
    "id": "_USn9LP01wS8"
   },
   "source": [
    "Question: Try adding a transformer in the preparation pipeline to select only the most important attributes."
   ]
  },
  {
   "cell_type": "code",
   "execution_count": null,
   "metadata": {
    "id": "KBT-fcin1wS8",
    "ExecuteTime": {
     "start_time": "2024-03-23T12:57:09.503189600Z"
    }
   },
   "outputs": [],
   "source": [
    "from sklearn.base import BaseEstimator, TransformerMixin\n",
    "\n",
    "def indices_of_top_k(arr, k):\n",
    "    return np.sort(np.argpartition(np.array(arr), -k)[-k:])\n",
    "\n",
    "class TopFeatureSelector(BaseEstimator, TransformerMixin):\n",
    "    def __init__(self, feature_importances, k):\n",
    "        self.feature_importances = feature_importances\n",
    "        self.k = k\n",
    "    def fit(self, X, y=None):\n",
    "        self.feature_indices_ = indices_of_top_k(self.feature_importances, self.k)\n",
    "        return self\n",
    "    def transform(self, X):\n",
    "        return X[:, self.feature_indices_]"
   ]
  },
  {
   "cell_type": "markdown",
   "metadata": {
    "id": "hMHogwV41wS9"
   },
   "source": [
    "Note: this feature selector assumes that you have already computed the feature importances somehow (for example using a `RandomForestRegressor`). You may be tempted to compute them directly in the `TopFeatureSelector`'s `fit()` method, however this would likely slow down grid/randomized search since the feature importances would have to be computed for every hyperparameter combination (unless you implement some sort of cache)."
   ]
  },
  {
   "cell_type": "markdown",
   "metadata": {
    "id": "0cDzKo_N1wS-"
   },
   "source": [
    "Let's define the number of top features we want to keep:"
   ]
  },
  {
   "cell_type": "code",
   "execution_count": 27,
   "metadata": {
    "id": "1qJ8hrf_1wS-",
    "ExecuteTime": {
     "end_time": "2024-03-23T12:57:16.703305700Z",
     "start_time": "2024-03-23T12:57:09.505187800Z"
    }
   },
   "outputs": [],
   "source": [
    "k = 5"
   ]
  },
  {
   "cell_type": "markdown",
   "metadata": {
    "id": "onTCZHov1wS-"
   },
   "source": [
    "Now let's look for the indices of the top k features:"
   ]
  },
  {
   "cell_type": "code",
   "execution_count": 28,
   "metadata": {
    "id": "sHp0ta1K1wS-",
    "outputId": "e753e812-a4b5-4b61-b44b-ad985a17662b",
    "ExecuteTime": {
     "start_time": "2024-03-23T12:57:09.522188200Z"
    }
   },
   "outputs": [
    {
     "ename": "NameError",
     "evalue": "name 'feature_importances' is not defined",
     "output_type": "error",
     "traceback": [
      "\u001B[1;31m---------------------------------------------------------------------------\u001B[0m",
      "\u001B[1;31mNameError\u001B[0m                                 Traceback (most recent call last)",
      "Cell \u001B[1;32mIn[28], line 1\u001B[0m\n\u001B[1;32m----> 1\u001B[0m top_k_feature_indices \u001B[38;5;241m=\u001B[39m indices_of_top_k(\u001B[43mfeature_importances\u001B[49m, k)\n\u001B[0;32m      2\u001B[0m top_k_feature_indices\n",
      "\u001B[1;31mNameError\u001B[0m: name 'feature_importances' is not defined"
     ]
    }
   ],
   "source": [
    "top_k_feature_indices = indices_of_top_k(feature_importances, k)\n",
    "top_k_feature_indices"
   ]
  },
  {
   "cell_type": "code",
   "execution_count": null,
   "metadata": {
    "id": "t5eylxHS1wS_",
    "outputId": "d7967706-a828-420e-a186-e5e396d32cb8",
    "ExecuteTime": {
     "start_time": "2024-03-23T12:57:09.538120Z"
    }
   },
   "outputs": [],
   "source": [
    "np.array(attributes)[top_k_feature_indices]"
   ]
  },
  {
   "cell_type": "markdown",
   "metadata": {
    "id": "JHYyQb3P1wS_"
   },
   "source": [
    "Let's double check that these are indeed the top k features:"
   ]
  },
  {
   "cell_type": "code",
   "execution_count": 29,
   "metadata": {
    "id": "juEAYcIr1wS_",
    "outputId": "cd13dba8-c078-45d1-9db8-2e2dde9a7720",
    "ExecuteTime": {
     "start_time": "2024-03-23T12:57:09.543120600Z"
    }
   },
   "outputs": [
    {
     "ename": "NameError",
     "evalue": "name 'feature_importances' is not defined",
     "output_type": "error",
     "traceback": [
      "\u001B[1;31m---------------------------------------------------------------------------\u001B[0m",
      "\u001B[1;31mNameError\u001B[0m                                 Traceback (most recent call last)",
      "Cell \u001B[1;32mIn[29], line 1\u001B[0m\n\u001B[1;32m----> 1\u001B[0m \u001B[38;5;28msorted\u001B[39m(\u001B[38;5;28mzip\u001B[39m(\u001B[43mfeature_importances\u001B[49m, attributes), reverse\u001B[38;5;241m=\u001B[39m\u001B[38;5;28;01mTrue\u001B[39;00m)[:k]\n",
      "\u001B[1;31mNameError\u001B[0m: name 'feature_importances' is not defined"
     ]
    }
   ],
   "source": [
    "sorted(zip(feature_importances, attributes), reverse=True)[:k]"
   ]
  },
  {
   "cell_type": "markdown",
   "metadata": {
    "id": "JGpiXxKk1wS_"
   },
   "source": [
    "Looking good... Now let's create a new pipeline that runs the previously defined preparation pipeline, and adds top k feature selection:"
   ]
  },
  {
   "cell_type": "code",
   "execution_count": 30,
   "metadata": {
    "id": "88TVOcey1wTA",
    "ExecuteTime": {
     "start_time": "2024-03-23T12:57:09.569557400Z"
    }
   },
   "outputs": [
    {
     "ename": "NameError",
     "evalue": "name 'Pipeline' is not defined",
     "output_type": "error",
     "traceback": [
      "\u001B[1;31m---------------------------------------------------------------------------\u001B[0m",
      "\u001B[1;31mNameError\u001B[0m                                 Traceback (most recent call last)",
      "Cell \u001B[1;32mIn[30], line 1\u001B[0m\n\u001B[1;32m----> 1\u001B[0m preparation_and_feature_selection_pipeline \u001B[38;5;241m=\u001B[39m \u001B[43mPipeline\u001B[49m([\n\u001B[0;32m      2\u001B[0m     (\u001B[38;5;124m'\u001B[39m\u001B[38;5;124mpreparation\u001B[39m\u001B[38;5;124m'\u001B[39m, full_pipeline),\n\u001B[0;32m      3\u001B[0m     (\u001B[38;5;124m'\u001B[39m\u001B[38;5;124mfeature_selection\u001B[39m\u001B[38;5;124m'\u001B[39m, TopFeatureSelector(feature_importances, k))\n\u001B[0;32m      4\u001B[0m ])\n",
      "\u001B[1;31mNameError\u001B[0m: name 'Pipeline' is not defined"
     ]
    }
   ],
   "source": [
    "preparation_and_feature_selection_pipeline = Pipeline([\n",
    "    ('preparation', full_pipeline),\n",
    "    ('feature_selection', TopFeatureSelector(feature_importances, k))\n",
    "])"
   ]
  },
  {
   "cell_type": "code",
   "execution_count": null,
   "metadata": {
    "id": "V06EsJZZ1wTA",
    "ExecuteTime": {
     "start_time": "2024-03-23T12:57:09.585570500Z"
    }
   },
   "outputs": [],
   "source": [
    "medical_prepared_top_k_features = preparation_and_feature_selection_pipeline.fit_transform(medical)"
   ]
  },
  {
   "cell_type": "markdown",
   "metadata": {
    "id": "Z2nkY3Z_1wTA"
   },
   "source": [
    "Let's look at the features of the first 3 instances:"
   ]
  },
  {
   "cell_type": "code",
   "execution_count": 31,
   "metadata": {
    "id": "fEBy1nzD1wTA",
    "outputId": "e07561ed-4df6-4c21-c54f-3bb569f1a0ab",
    "ExecuteTime": {
     "start_time": "2024-03-23T12:57:09.591576300Z"
    }
   },
   "outputs": [
    {
     "ename": "NameError",
     "evalue": "name 'medical_prepared_top_k_features' is not defined",
     "output_type": "error",
     "traceback": [
      "\u001B[1;31m---------------------------------------------------------------------------\u001B[0m",
      "\u001B[1;31mNameError\u001B[0m                                 Traceback (most recent call last)",
      "Cell \u001B[1;32mIn[31], line 1\u001B[0m\n\u001B[1;32m----> 1\u001B[0m \u001B[43mmedical_prepared_top_k_features\u001B[49m[\u001B[38;5;241m0\u001B[39m:\u001B[38;5;241m3\u001B[39m]\n",
      "\u001B[1;31mNameError\u001B[0m: name 'medical_prepared_top_k_features' is not defined"
     ]
    }
   ],
   "source": [
    "medical_prepared_top_k_features[0:3]"
   ]
  },
  {
   "cell_type": "markdown",
   "metadata": {
    "id": "942Ru4541wTB"
   },
   "source": [
    "Now let's double check that these are indeed the top k features:"
   ]
  },
  {
   "cell_type": "code",
   "execution_count": 32,
   "metadata": {
    "id": "kWCEbeAZ1wTB",
    "outputId": "f953e72f-772c-47ad-fd65-157ed4998daf",
    "ExecuteTime": {
     "start_time": "2024-03-23T12:57:09.615731800Z"
    }
   },
   "outputs": [
    {
     "ename": "NameError",
     "evalue": "name 'medical_prepared' is not defined",
     "output_type": "error",
     "traceback": [
      "\u001B[1;31m---------------------------------------------------------------------------\u001B[0m",
      "\u001B[1;31mNameError\u001B[0m                                 Traceback (most recent call last)",
      "Cell \u001B[1;32mIn[32], line 1\u001B[0m\n\u001B[1;32m----> 1\u001B[0m \u001B[43mmedical_prepared\u001B[49m[\u001B[38;5;241m0\u001B[39m:\u001B[38;5;241m3\u001B[39m, top_k_feature_indices]\n",
      "\u001B[1;31mNameError\u001B[0m: name 'medical_prepared' is not defined"
     ]
    }
   ],
   "source": [
    "medical_prepared[0:3, top_k_feature_indices]"
   ]
  },
  {
   "cell_type": "markdown",
   "metadata": {
    "id": "8xOCxrvA1wTC"
   },
   "source": [
    "Works great!  :)"
   ]
  },
  {
   "cell_type": "markdown",
   "metadata": {
    "id": "bHvRNQp91wTC"
   },
   "source": [
    "## 4."
   ]
  },
  {
   "cell_type": "markdown",
   "metadata": {
    "id": "D0rjk_tx1wTC"
   },
   "source": [
    "Question: Try creating a single pipeline that does the full data preparation plus the final prediction."
   ]
  },
  {
   "cell_type": "code",
   "execution_count": 33,
   "metadata": {
    "id": "h323j62p1wTC",
    "ExecuteTime": {
     "start_time": "2024-03-23T12:57:09.680421500Z"
    }
   },
   "outputs": [
    {
     "ename": "NameError",
     "evalue": "name 'Pipeline' is not defined",
     "output_type": "error",
     "traceback": [
      "\u001B[1;31m---------------------------------------------------------------------------\u001B[0m",
      "\u001B[1;31mNameError\u001B[0m                                 Traceback (most recent call last)",
      "Cell \u001B[1;32mIn[33], line 1\u001B[0m\n\u001B[1;32m----> 1\u001B[0m prepare_select_and_predict_pipeline \u001B[38;5;241m=\u001B[39m \u001B[43mPipeline\u001B[49m([\n\u001B[0;32m      2\u001B[0m     (\u001B[38;5;124m'\u001B[39m\u001B[38;5;124mpreparation\u001B[39m\u001B[38;5;124m'\u001B[39m, full_pipeline),\n\u001B[0;32m      3\u001B[0m     (\u001B[38;5;124m'\u001B[39m\u001B[38;5;124mfeature_selection\u001B[39m\u001B[38;5;124m'\u001B[39m, TopFeatureSelector(feature_importances, k)),\n\u001B[0;32m      4\u001B[0m     (\u001B[38;5;124m'\u001B[39m\u001B[38;5;124msvm_reg\u001B[39m\u001B[38;5;124m'\u001B[39m, SVR(\u001B[38;5;241m*\u001B[39m\u001B[38;5;241m*\u001B[39mrnd_search\u001B[38;5;241m.\u001B[39mbest_params_))\n\u001B[0;32m      5\u001B[0m ])\n",
      "\u001B[1;31mNameError\u001B[0m: name 'Pipeline' is not defined"
     ]
    }
   ],
   "source": [
    "prepare_select_and_predict_pipeline = Pipeline([\n",
    "    ('preparation', full_pipeline),\n",
    "    ('feature_selection', TopFeatureSelector(feature_importances, k)),\n",
    "    ('svm_reg', SVR(**rnd_search.best_params_))\n",
    "])"
   ]
  },
  {
   "cell_type": "code",
   "execution_count": null,
   "metadata": {
    "id": "9OjnNZxi1wTD",
    "outputId": "9d519f2f-aa67-4aeb-cc4d-dc46deb6c7f4",
    "ExecuteTime": {
     "start_time": "2024-03-23T12:57:09.692066Z"
    }
   },
   "outputs": [],
   "source": [
    "prepare_select_and_predict_pipeline.fit(medical, medical_labels)"
   ]
  },
  {
   "cell_type": "markdown",
   "metadata": {
    "id": "ngJFx0EF1wTD"
   },
   "source": [
    "Let's try the full pipeline on a few instances:"
   ]
  },
  {
   "cell_type": "code",
   "execution_count": 34,
   "metadata": {
    "id": "YdzAWA7M1wTD",
    "outputId": "34ee4da7-d39d-44e1-b41b-45bf962513de",
    "ExecuteTime": {
     "start_time": "2024-03-23T12:57:09.697063700Z"
    }
   },
   "outputs": [
    {
     "ename": "NameError",
     "evalue": "name 'medical_labels' is not defined",
     "output_type": "error",
     "traceback": [
      "\u001B[1;31m---------------------------------------------------------------------------\u001B[0m",
      "\u001B[1;31mNameError\u001B[0m                                 Traceback (most recent call last)",
      "Cell \u001B[1;32mIn[34], line 2\u001B[0m\n\u001B[0;32m      1\u001B[0m some_data \u001B[38;5;241m=\u001B[39m medical\u001B[38;5;241m.\u001B[39miloc[:\u001B[38;5;241m4\u001B[39m]\n\u001B[1;32m----> 2\u001B[0m some_labels \u001B[38;5;241m=\u001B[39m \u001B[43mmedical_labels\u001B[49m\u001B[38;5;241m.\u001B[39miloc[:\u001B[38;5;241m4\u001B[39m]\n\u001B[0;32m      4\u001B[0m \u001B[38;5;28mprint\u001B[39m(\u001B[38;5;124m\"\u001B[39m\u001B[38;5;124mPredictions:\u001B[39m\u001B[38;5;130;01m\\t\u001B[39;00m\u001B[38;5;124m\"\u001B[39m, prepare_select_and_predict_pipeline\u001B[38;5;241m.\u001B[39mpredict(some_data))\n\u001B[0;32m      5\u001B[0m \u001B[38;5;28mprint\u001B[39m(\u001B[38;5;124m\"\u001B[39m\u001B[38;5;124mLabels:\u001B[39m\u001B[38;5;130;01m\\t\u001B[39;00m\u001B[38;5;130;01m\\t\u001B[39;00m\u001B[38;5;124m\"\u001B[39m, \u001B[38;5;28mlist\u001B[39m(some_labels))\n",
      "\u001B[1;31mNameError\u001B[0m: name 'medical_labels' is not defined"
     ]
    }
   ],
   "source": [
    "some_data = medical.iloc[:4]\n",
    "some_labels = medical_labels.iloc[:4]\n",
    "\n",
    "print(\"Predictions:\\t\", prepare_select_and_predict_pipeline.predict(some_data))\n",
    "print(\"Labels:\\t\\t\", list(some_labels))"
   ]
  },
  {
   "cell_type": "markdown",
   "metadata": {
    "id": "umcqUFDl1wTD"
   },
   "source": [
    "Well, the full pipeline seems to work fine. Of course, the predictions are not fantastic: they would be better if we used the best `RandomForestRegressor` that we found earlier, rather than the best `SVR`."
   ]
  },
  {
   "cell_type": "markdown",
   "metadata": {
    "id": "Hz36xZin1wTE"
   },
   "source": [
    "## 5."
   ]
  },
  {
   "cell_type": "markdown",
   "metadata": {
    "id": "Z13WWlRD1wTE"
   },
   "source": [
    "Question: Automatically explore some preparation options using `GridSearchCV`."
   ]
  },
  {
   "cell_type": "markdown",
   "metadata": {
    "id": "iIv9F-wV1wTE"
   },
   "source": [
    "**Warning**: the following cell may take close to 45 minutes to run, or more depending on your hardware."
   ]
  },
  {
   "cell_type": "markdown",
   "metadata": {
    "id": "wGiC_Ofp1wTE"
   },
   "source": [
    "**Note:** In the code below, I've set the `OneHotEncoder`'s `handle_unknown` hyperparameter to `'ignore'`, to avoid warnings during training. Without this, the `OneHotEncoder` would default to `handle_unknown='error'`, meaning that it would raise an error when transforming any data containing a category it didn't see during training. If we kept the default, then the `GridSearchCV` would run into errors during training when evaluating the folds in which not all the categories are in the training set. This is likely to happen since there's only one sample in the `'ISLAND'` category, and it may end up in the test set in some of the folds. So some folds would just be dropped by the `GridSearchCV`, and it's best to avoid that."
   ]
  },
  {
   "cell_type": "code",
   "execution_count": 35,
   "metadata": {
    "id": "2HLf5FHH1wTE",
    "outputId": "159c4f38-4645-4da2-fd9c-407e31aa5bb3",
    "ExecuteTime": {
     "start_time": "2024-03-23T12:57:09.794651600Z"
    }
   },
   "outputs": [
    {
     "ename": "NameError",
     "evalue": "name 'full_pipeline' is not defined",
     "output_type": "error",
     "traceback": [
      "\u001B[1;31m---------------------------------------------------------------------------\u001B[0m",
      "\u001B[1;31mNameError\u001B[0m                                 Traceback (most recent call last)",
      "Cell \u001B[1;32mIn[35], line 1\u001B[0m\n\u001B[1;32m----> 1\u001B[0m \u001B[43mfull_pipeline\u001B[49m\u001B[38;5;241m.\u001B[39mnamed_transformers_[\u001B[38;5;124m\"\u001B[39m\u001B[38;5;124mcat\u001B[39m\u001B[38;5;124m\"\u001B[39m]\u001B[38;5;241m.\u001B[39mhandle_unknown \u001B[38;5;241m=\u001B[39m \u001B[38;5;124m'\u001B[39m\u001B[38;5;124mignore\u001B[39m\u001B[38;5;124m'\u001B[39m\n\u001B[0;32m      3\u001B[0m param_grid \u001B[38;5;241m=\u001B[39m [{\n\u001B[0;32m      4\u001B[0m     \u001B[38;5;124m'\u001B[39m\u001B[38;5;124mpreparation__num__imputer__strategy\u001B[39m\u001B[38;5;124m'\u001B[39m: [\u001B[38;5;124m'\u001B[39m\u001B[38;5;124mmean\u001B[39m\u001B[38;5;124m'\u001B[39m, \u001B[38;5;124m'\u001B[39m\u001B[38;5;124mmedian\u001B[39m\u001B[38;5;124m'\u001B[39m, \u001B[38;5;124m'\u001B[39m\u001B[38;5;124mmost_frequent\u001B[39m\u001B[38;5;124m'\u001B[39m],\n\u001B[0;32m      5\u001B[0m     \u001B[38;5;124m'\u001B[39m\u001B[38;5;124mfeature_selection__k\u001B[39m\u001B[38;5;124m'\u001B[39m: \u001B[38;5;28mlist\u001B[39m(\u001B[38;5;28mrange\u001B[39m(\u001B[38;5;241m1\u001B[39m, \u001B[38;5;28mlen\u001B[39m(feature_importances) \u001B[38;5;241m+\u001B[39m \u001B[38;5;241m1\u001B[39m))\n\u001B[0;32m      6\u001B[0m }]\n\u001B[0;32m      8\u001B[0m grid_search_prep \u001B[38;5;241m=\u001B[39m GridSearchCV(prepare_select_and_predict_pipeline, param_grid, cv\u001B[38;5;241m=\u001B[39m\u001B[38;5;241m5\u001B[39m,\n\u001B[0;32m      9\u001B[0m                                 scoring\u001B[38;5;241m=\u001B[39m\u001B[38;5;124m'\u001B[39m\u001B[38;5;124mneg_mean_squared_error\u001B[39m\u001B[38;5;124m'\u001B[39m, verbose\u001B[38;5;241m=\u001B[39m\u001B[38;5;241m2\u001B[39m)\n",
      "\u001B[1;31mNameError\u001B[0m: name 'full_pipeline' is not defined"
     ]
    }
   ],
   "source": [
    "full_pipeline.named_transformers_[\"cat\"].handle_unknown = 'ignore'\n",
    "\n",
    "param_grid = [{\n",
    "    'preparation__num__imputer__strategy': ['mean', 'median', 'most_frequent'],\n",
    "    'feature_selection__k': list(range(1, len(feature_importances) + 1))\n",
    "}]\n",
    "\n",
    "grid_search_prep = GridSearchCV(prepare_select_and_predict_pipeline, param_grid, cv=5,\n",
    "                                scoring='neg_mean_squared_error', verbose=2)\n",
    "grid_search_prep.fit(medical, medical_labels)"
   ]
  },
  {
   "cell_type": "code",
   "execution_count": null,
   "metadata": {
    "id": "z8NteC-C1wTF",
    "outputId": "b688f556-77f5-4923-abaf-65ab63c51b3c",
    "ExecuteTime": {
     "start_time": "2024-03-23T12:57:09.812297600Z"
    }
   },
   "outputs": [],
   "source": [
    "grid_search_prep.best_params_"
   ]
  },
  {
   "cell_type": "markdown",
   "metadata": {
    "id": "POu0pD1S1wTF"
   },
   "source": [
    "The best imputer strategy is `most_frequent` and apparently almost all features are useful (15 out of 16). The last one (`ISLAND`) seems to just add some noise."
   ]
  },
  {
   "cell_type": "markdown",
   "metadata": {
    "id": "9cBSuNLT1wTF"
   },
   "source": [
    "Congratulations! You already know quite a lot about Machine Learning. :)"
   ]
  }
 ],
 "metadata": {
  "kernelspec": {
   "display_name": "Python 3",
   "language": "python",
   "name": "python3"
  },
  "language_info": {
   "codemirror_mode": {
    "name": "ipython",
    "version": 3
   },
   "file_extension": ".py",
   "mimetype": "text/x-python",
   "name": "python",
   "nbconvert_exporter": "python",
   "pygments_lexer": "ipython3",
   "version": "3.7.10"
  },
  "nav_menu": {
   "height": "279px",
   "width": "309px"
  },
  "toc": {
   "nav_menu": {},
   "number_sections": true,
   "sideBar": true,
   "skip_h1_title": false,
   "toc_cell": false,
   "toc_position": {},
   "toc_section_display": "block",
   "toc_window_display": false
  },
  "colab": {
   "provenance": []
  }
 },
 "nbformat": 4,
 "nbformat_minor": 0
}
